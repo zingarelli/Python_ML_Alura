{
 "cells": [
  {
   "cell_type": "markdown",
   "metadata": {},
   "source": [
    "# Trabalhando com modelos salvos externamente"
   ]
  },
  {
   "cell_type": "markdown",
   "metadata": {},
   "source": [
    "Vamos agora importar o modelo e o encoder que foram salvos em arquivo e utilizá-los para classificar um novo dado.\n",
    "\n",
    "```python\n",
    "novo_dado = {\n",
    "    'idade': [45],\n",
    "    'estado_civil':['solteiro (a)'],\n",
    "    'escolaridade':['superior'],\n",
    "    'inadimplencia': ['nao'],\n",
    "    'saldo': [23040],\n",
    "    'fez_emprestimo': ['nao'],\n",
    "    'tempo_ult_contato': [800],\n",
    "    'numero_contatos': [4]\n",
    "}\n",
    "```"
   ]
  },
  {
   "cell_type": "code",
   "execution_count": 2,
   "metadata": {},
   "outputs": [
    {
     "data": {
      "text/html": [
       "<div>\n",
       "<style scoped>\n",
       "    .dataframe tbody tr th:only-of-type {\n",
       "        vertical-align: middle;\n",
       "    }\n",
       "\n",
       "    .dataframe tbody tr th {\n",
       "        vertical-align: top;\n",
       "    }\n",
       "\n",
       "    .dataframe thead th {\n",
       "        text-align: right;\n",
       "    }\n",
       "</style>\n",
       "<table border=\"1\" class=\"dataframe\">\n",
       "  <thead>\n",
       "    <tr style=\"text-align: right;\">\n",
       "      <th></th>\n",
       "      <th>idade</th>\n",
       "      <th>estado_civil</th>\n",
       "      <th>escolaridade</th>\n",
       "      <th>inadimplencia</th>\n",
       "      <th>saldo</th>\n",
       "      <th>fez_emprestimo</th>\n",
       "      <th>tempo_ult_contato</th>\n",
       "      <th>numero_contatos</th>\n",
       "    </tr>\n",
       "  </thead>\n",
       "  <tbody>\n",
       "    <tr>\n",
       "      <th>0</th>\n",
       "      <td>45</td>\n",
       "      <td>solteiro (a)</td>\n",
       "      <td>superior</td>\n",
       "      <td>nao</td>\n",
       "      <td>23040</td>\n",
       "      <td>nao</td>\n",
       "      <td>800</td>\n",
       "      <td>4</td>\n",
       "    </tr>\n",
       "  </tbody>\n",
       "</table>\n",
       "</div>"
      ],
      "text/plain": [
       "   idade  estado_civil escolaridade inadimplencia  saldo fez_emprestimo  \\\n",
       "0     45  solteiro (a)     superior           nao  23040            nao   \n",
       "\n",
       "   tempo_ult_contato  numero_contatos  \n",
       "0                800                4  "
      ]
     },
     "execution_count": 2,
     "metadata": {},
     "output_type": "execute_result"
    }
   ],
   "source": [
    "import pandas as pd\n",
    "\n",
    "novo_dado = {\n",
    "    'idade': [45],\n",
    "    'estado_civil':['solteiro (a)'],\n",
    "    'escolaridade':['superior'],\n",
    "    'inadimplencia': ['nao'],\n",
    "    'saldo': [23040],\n",
    "    'fez_emprestimo': ['nao'],\n",
    "    'tempo_ult_contato': [800],\n",
    "    'numero_contatos': [4]\n",
    "}\n",
    "\n",
    "# converting the dictionary to a df\n",
    "novo_dado = pd.DataFrame(novo_dado)\n",
    "novo_dado"
   ]
  },
  {
   "cell_type": "markdown",
   "metadata": {},
   "source": [
    "Importando o modelo e o encoder, utilizando a função `read_pickle` do Pandas, e aplicando ao novo dado:"
   ]
  },
  {
   "cell_type": "code",
   "execution_count": 27,
   "metadata": {},
   "outputs": [],
   "source": [
    "one_hot = pd.read_pickle('./one_hot_encoder.pkl')\n",
    "tree = pd.read_pickle('./decision_tree_model.pkl')\n",
    "\n",
    "novo_dado = one_hot.transform(novo_dado)"
   ]
  },
  {
   "cell_type": "code",
   "execution_count": 28,
   "metadata": {},
   "outputs": [
    {
     "data": {
      "text/html": [
       "<div>\n",
       "<style scoped>\n",
       "    .dataframe tbody tr th:only-of-type {\n",
       "        vertical-align: middle;\n",
       "    }\n",
       "\n",
       "    .dataframe tbody tr th {\n",
       "        vertical-align: top;\n",
       "    }\n",
       "\n",
       "    .dataframe thead th {\n",
       "        text-align: right;\n",
       "    }\n",
       "</style>\n",
       "<table border=\"1\" class=\"dataframe\">\n",
       "  <thead>\n",
       "    <tr style=\"text-align: right;\">\n",
       "      <th></th>\n",
       "      <th>0</th>\n",
       "      <th>1</th>\n",
       "      <th>2</th>\n",
       "      <th>3</th>\n",
       "      <th>4</th>\n",
       "      <th>5</th>\n",
       "      <th>6</th>\n",
       "      <th>7</th>\n",
       "      <th>8</th>\n",
       "      <th>9</th>\n",
       "      <th>10</th>\n",
       "      <th>11</th>\n",
       "    </tr>\n",
       "  </thead>\n",
       "  <tbody>\n",
       "    <tr>\n",
       "      <th>0</th>\n",
       "      <td>0.0</td>\n",
       "      <td>0.0</td>\n",
       "      <td>1.0</td>\n",
       "      <td>0.0</td>\n",
       "      <td>0.0</td>\n",
       "      <td>1.0</td>\n",
       "      <td>0.0</td>\n",
       "      <td>0.0</td>\n",
       "      <td>45.0</td>\n",
       "      <td>23040.0</td>\n",
       "      <td>800.0</td>\n",
       "      <td>4.0</td>\n",
       "    </tr>\n",
       "  </tbody>\n",
       "</table>\n",
       "</div>"
      ],
      "text/plain": [
       "    0    1    2    3    4    5    6    7     8        9      10   11\n",
       "0  0.0  0.0  1.0  0.0  0.0  1.0  0.0  0.0  45.0  23040.0  800.0  4.0"
      ]
     },
     "execution_count": 28,
     "metadata": {},
     "output_type": "execute_result"
    }
   ],
   "source": [
    "novo_dado = pd.DataFrame(novo_dado)\n",
    "novo_dado"
   ]
  },
  {
   "cell_type": "code",
   "execution_count": 29,
   "metadata": {},
   "outputs": [
    {
     "data": {
      "text/plain": [
       "array([1])"
      ]
     },
     "execution_count": 29,
     "metadata": {},
     "output_type": "execute_result"
    }
   ],
   "source": [
    "tree.predict(novo_dado)"
   ]
  },
  {
   "cell_type": "markdown",
   "metadata": {},
   "source": [
    "Utilizando o modelo, podemos ver que o cliente com os dados que passamos provavelmente aderiria ao investimento da campanha de marketing"
   ]
  }
 ],
 "metadata": {
  "kernelspec": {
   "display_name": "venv",
   "language": "python",
   "name": "python3"
  },
  "language_info": {
   "codemirror_mode": {
    "name": "ipython",
    "version": 3
   },
   "file_extension": ".py",
   "mimetype": "text/x-python",
   "name": "python",
   "nbconvert_exporter": "python",
   "pygments_lexer": "ipython3",
   "version": "3.10.5"
  }
 },
 "nbformat": 4,
 "nbformat_minor": 2
}
