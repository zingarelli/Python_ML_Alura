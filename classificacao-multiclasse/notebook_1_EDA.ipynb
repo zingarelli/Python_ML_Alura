{
 "cells": [
  {
   "cell_type": "markdown",
   "metadata": {},
   "source": [
    "# Classificação multiclasse\n",
    "\n",
    "## Nosso problema\n",
    "\n",
    "Modelo para previsão de evasão de estudantes de uma faculdade. Para isso, iremos trabalhar com uma base de dados reais (adaptada) de uma faculdade de Portugal (o Instituto Politécnico de Portalegre), com dados demográficos, sócio-econômicos, macroeconômicos e de disciplinas para o 1º e 2º semestre. A base original está [neste link](https://archive.ics.uci.edu/dataset/697/predict+students+dropout+and+academic+success) e [neste outro link](https://www.mdpi.com/2306-5729/7/11/146) você pode ler o artigo que gerou este dataset. \n",
    "\n",
    "Estes dados são representativos dos registros de estudantes matriculados no período entre os anos letivos de 2008/2009 (após a implementação do Processo de Bolonha no ensino superior europeu) e 2018/2019. Eles abrangem 17 cursos de graduação em diversas áreas do conhecimento, como agronomia, design, educação, enfermagem, jornalismo, gestão, serviço social e tecnologias."
   ]
  },
  {
   "cell_type": "code",
   "execution_count": 1,
   "metadata": {},
   "outputs": [
    {
     "data": {
      "text/html": [
       "<div>\n",
       "<style scoped>\n",
       "    .dataframe tbody tr th:only-of-type {\n",
       "        vertical-align: middle;\n",
       "    }\n",
       "\n",
       "    .dataframe tbody tr th {\n",
       "        vertical-align: top;\n",
       "    }\n",
       "\n",
       "    .dataframe thead th {\n",
       "        text-align: right;\n",
       "    }\n",
       "</style>\n",
       "<table border=\"1\" class=\"dataframe\">\n",
       "  <thead>\n",
       "    <tr style=\"text-align: right;\">\n",
       "      <th></th>\n",
       "      <th>Estado civil</th>\n",
       "      <th>Migração</th>\n",
       "      <th>Sexo</th>\n",
       "      <th>Idade na matrícula</th>\n",
       "      <th>Estrangeiro</th>\n",
       "      <th>Necessidades educacionais especiais</th>\n",
       "      <th>Devedor</th>\n",
       "      <th>Taxas de matrícula em dia</th>\n",
       "      <th>Bolsista</th>\n",
       "      <th>Taxa de desemprego</th>\n",
       "      <th>...</th>\n",
       "      <th>disciplinas 1º semestre (aprovadas)</th>\n",
       "      <th>disciplinas 1º semestre (notas)</th>\n",
       "      <th>disciplinas 1º semestre (sem avaliações)</th>\n",
       "      <th>disciplinas 2º semestre (creditadas)</th>\n",
       "      <th>disciplinas 2º semestre (matriculadas)</th>\n",
       "      <th>disciplinas 2º semestre (avaliações)</th>\n",
       "      <th>disciplinas 2º semestre (aprovadas)</th>\n",
       "      <th>disciplinas 2º semestre (notas)</th>\n",
       "      <th>disciplinas 2º semestre (sem avaliações)</th>\n",
       "      <th>Target</th>\n",
       "    </tr>\n",
       "  </thead>\n",
       "  <tbody>\n",
       "    <tr>\n",
       "      <th>0</th>\n",
       "      <td>Solteiro</td>\n",
       "      <td>Sim</td>\n",
       "      <td>Masculino</td>\n",
       "      <td>20</td>\n",
       "      <td>Não</td>\n",
       "      <td>Não</td>\n",
       "      <td>Não</td>\n",
       "      <td>Sim</td>\n",
       "      <td>Não</td>\n",
       "      <td>10.8</td>\n",
       "      <td>...</td>\n",
       "      <td>0</td>\n",
       "      <td>0.000000</td>\n",
       "      <td>0</td>\n",
       "      <td>0</td>\n",
       "      <td>0</td>\n",
       "      <td>0</td>\n",
       "      <td>0</td>\n",
       "      <td>0.000000</td>\n",
       "      <td>0</td>\n",
       "      <td>Desistente</td>\n",
       "    </tr>\n",
       "    <tr>\n",
       "      <th>1</th>\n",
       "      <td>Solteiro</td>\n",
       "      <td>Sim</td>\n",
       "      <td>Masculino</td>\n",
       "      <td>19</td>\n",
       "      <td>Não</td>\n",
       "      <td>Não</td>\n",
       "      <td>Não</td>\n",
       "      <td>Não</td>\n",
       "      <td>Não</td>\n",
       "      <td>13.9</td>\n",
       "      <td>...</td>\n",
       "      <td>6</td>\n",
       "      <td>14.000000</td>\n",
       "      <td>0</td>\n",
       "      <td>0</td>\n",
       "      <td>6</td>\n",
       "      <td>6</td>\n",
       "      <td>6</td>\n",
       "      <td>13.666667</td>\n",
       "      <td>0</td>\n",
       "      <td>Graduado</td>\n",
       "    </tr>\n",
       "    <tr>\n",
       "      <th>2</th>\n",
       "      <td>Solteiro</td>\n",
       "      <td>Sim</td>\n",
       "      <td>Masculino</td>\n",
       "      <td>19</td>\n",
       "      <td>Não</td>\n",
       "      <td>Não</td>\n",
       "      <td>Não</td>\n",
       "      <td>Não</td>\n",
       "      <td>Não</td>\n",
       "      <td>10.8</td>\n",
       "      <td>...</td>\n",
       "      <td>0</td>\n",
       "      <td>0.000000</td>\n",
       "      <td>0</td>\n",
       "      <td>0</td>\n",
       "      <td>6</td>\n",
       "      <td>0</td>\n",
       "      <td>0</td>\n",
       "      <td>0.000000</td>\n",
       "      <td>0</td>\n",
       "      <td>Desistente</td>\n",
       "    </tr>\n",
       "    <tr>\n",
       "      <th>3</th>\n",
       "      <td>Solteiro</td>\n",
       "      <td>Sim</td>\n",
       "      <td>Feminino</td>\n",
       "      <td>20</td>\n",
       "      <td>Não</td>\n",
       "      <td>Não</td>\n",
       "      <td>Não</td>\n",
       "      <td>Sim</td>\n",
       "      <td>Não</td>\n",
       "      <td>9.4</td>\n",
       "      <td>...</td>\n",
       "      <td>6</td>\n",
       "      <td>13.428571</td>\n",
       "      <td>0</td>\n",
       "      <td>0</td>\n",
       "      <td>6</td>\n",
       "      <td>10</td>\n",
       "      <td>5</td>\n",
       "      <td>12.400000</td>\n",
       "      <td>0</td>\n",
       "      <td>Graduado</td>\n",
       "    </tr>\n",
       "    <tr>\n",
       "      <th>4</th>\n",
       "      <td>Casado</td>\n",
       "      <td>Não</td>\n",
       "      <td>Feminino</td>\n",
       "      <td>45</td>\n",
       "      <td>Não</td>\n",
       "      <td>Não</td>\n",
       "      <td>Não</td>\n",
       "      <td>Sim</td>\n",
       "      <td>Não</td>\n",
       "      <td>13.9</td>\n",
       "      <td>...</td>\n",
       "      <td>5</td>\n",
       "      <td>12.333333</td>\n",
       "      <td>0</td>\n",
       "      <td>0</td>\n",
       "      <td>6</td>\n",
       "      <td>6</td>\n",
       "      <td>6</td>\n",
       "      <td>13.000000</td>\n",
       "      <td>0</td>\n",
       "      <td>Graduado</td>\n",
       "    </tr>\n",
       "  </tbody>\n",
       "</table>\n",
       "<p>5 rows × 28 columns</p>\n",
       "</div>"
      ],
      "text/plain": [
       "  Estado civil Migração       Sexo  Idade na matrícula Estrangeiro  \\\n",
       "0     Solteiro      Sim  Masculino                  20         Não   \n",
       "1     Solteiro      Sim  Masculino                  19         Não   \n",
       "2     Solteiro      Sim  Masculino                  19         Não   \n",
       "3     Solteiro      Sim   Feminino                  20         Não   \n",
       "4       Casado      Não   Feminino                  45         Não   \n",
       "\n",
       "  Necessidades educacionais especiais Devedor Taxas de matrícula em dia  \\\n",
       "0                                 Não     Não                       Sim   \n",
       "1                                 Não     Não                       Não   \n",
       "2                                 Não     Não                       Não   \n",
       "3                                 Não     Não                       Sim   \n",
       "4                                 Não     Não                       Sim   \n",
       "\n",
       "  Bolsista  Taxa de desemprego  ...  disciplinas 1º semestre (aprovadas)  \\\n",
       "0      Não                10.8  ...                                    0   \n",
       "1      Não                13.9  ...                                    6   \n",
       "2      Não                10.8  ...                                    0   \n",
       "3      Não                 9.4  ...                                    6   \n",
       "4      Não                13.9  ...                                    5   \n",
       "\n",
       "   disciplinas 1º semestre (notas) disciplinas 1º semestre (sem avaliações)  \\\n",
       "0                         0.000000                                        0   \n",
       "1                        14.000000                                        0   \n",
       "2                         0.000000                                        0   \n",
       "3                        13.428571                                        0   \n",
       "4                        12.333333                                        0   \n",
       "\n",
       "  disciplinas 2º semestre (creditadas) disciplinas 2º semestre (matriculadas)  \\\n",
       "0                                    0                                      0   \n",
       "1                                    0                                      6   \n",
       "2                                    0                                      6   \n",
       "3                                    0                                      6   \n",
       "4                                    0                                      6   \n",
       "\n",
       "   disciplinas 2º semestre (avaliações)  disciplinas 2º semestre (aprovadas)  \\\n",
       "0                                     0                                    0   \n",
       "1                                     6                                    6   \n",
       "2                                     0                                    0   \n",
       "3                                    10                                    5   \n",
       "4                                     6                                    6   \n",
       "\n",
       "   disciplinas 2º semestre (notas)  disciplinas 2º semestre (sem avaliações)  \\\n",
       "0                         0.000000                                         0   \n",
       "1                        13.666667                                         0   \n",
       "2                         0.000000                                         0   \n",
       "3                        12.400000                                         0   \n",
       "4                        13.000000                                         0   \n",
       "\n",
       "       Target  \n",
       "0  Desistente  \n",
       "1    Graduado  \n",
       "2  Desistente  \n",
       "3    Graduado  \n",
       "4    Graduado  \n",
       "\n",
       "[5 rows x 28 columns]"
      ]
     },
     "execution_count": 1,
     "metadata": {},
     "output_type": "execute_result"
    }
   ],
   "source": [
    "import pandas as pd\n",
    "\n",
    "# read_csv also accepts a URL to a CSV file as parameter\n",
    "# df = pd.read_csv('https://raw.githubusercontent.com/alura-cursos/classificacao_multiclasse/main/Dados/dados_estudantes.csv')\n",
    "df = pd.read_csv('dados_estudantes.csv')\n",
    "df.head()"
   ]
  },
  {
   "cell_type": "code",
   "execution_count": 2,
   "metadata": {},
   "outputs": [
    {
     "name": "stdout",
     "output_type": "stream",
     "text": [
      "<class 'pandas.core.frame.DataFrame'>\n",
      "RangeIndex: 4424 entries, 0 to 4423\n",
      "Data columns (total 28 columns):\n",
      " #   Column                                    Non-Null Count  Dtype  \n",
      "---  ------                                    --------------  -----  \n",
      " 0   Estado civil                              4424 non-null   object \n",
      " 1   Migração                                  4424 non-null   object \n",
      " 2   Sexo                                      4424 non-null   object \n",
      " 3   Idade na matrícula                        4424 non-null   int64  \n",
      " 4   Estrangeiro                               4424 non-null   object \n",
      " 5   Necessidades educacionais especiais       4424 non-null   object \n",
      " 6   Devedor                                   4424 non-null   object \n",
      " 7   Taxas de matrícula em dia                 4424 non-null   object \n",
      " 8   Bolsista                                  4424 non-null   object \n",
      " 9   Taxa de desemprego                        4424 non-null   float64\n",
      " 10  Taxa de inflação                          4424 non-null   float64\n",
      " 11  PIB                                       4424 non-null   float64\n",
      " 12  Curso                                     4424 non-null   object \n",
      " 13  Período                                   4424 non-null   object \n",
      " 14  Qualificação prévia                       4424 non-null   object \n",
      " 15  disciplinas 1º semestre (creditadas)      4424 non-null   int64  \n",
      " 16  disciplinas 1º semestre (matriculadas)    4424 non-null   int64  \n",
      " 17  disciplinas 1º semestre (avaliações)      4424 non-null   int64  \n",
      " 18  disciplinas 1º semestre (aprovadas)       4424 non-null   int64  \n",
      " 19  disciplinas 1º semestre (notas)           4424 non-null   float64\n",
      " 20  disciplinas 1º semestre (sem avaliações)  4424 non-null   int64  \n",
      " 21  disciplinas 2º semestre (creditadas)      4424 non-null   int64  \n",
      " 22  disciplinas 2º semestre (matriculadas)    4424 non-null   int64  \n",
      " 23  disciplinas 2º semestre (avaliações)      4424 non-null   int64  \n",
      " 24  disciplinas 2º semestre (aprovadas)       4424 non-null   int64  \n",
      " 25  disciplinas 2º semestre (notas)           4424 non-null   float64\n",
      " 26  disciplinas 2º semestre (sem avaliações)  4424 non-null   int64  \n",
      " 27  Target                                    4424 non-null   object \n",
      "dtypes: float64(5), int64(11), object(12)\n",
      "memory usage: 967.9+ KB\n"
     ]
    }
   ],
   "source": [
    "df.info()"
   ]
  },
  {
   "cell_type": "markdown",
   "metadata": {},
   "source": [
    "Verificando os valores da variável alvo (coluna `Target`):"
   ]
  },
  {
   "cell_type": "code",
   "execution_count": 3,
   "metadata": {},
   "outputs": [
    {
     "data": {
      "text/plain": [
       "array(['Desistente', 'Graduado', 'Matriculado'], dtype=object)"
      ]
     },
     "execution_count": 3,
     "metadata": {},
     "output_type": "execute_result"
    }
   ],
   "source": [
    "df.Target.unique()"
   ]
  },
  {
   "cell_type": "markdown",
   "metadata": {},
   "source": [
    "Observe que temos três classes ('Desistente', 'Graduado', 'Matriculado'), portanto, o nosso problema é de classificação **multiclasse** e não binária."
   ]
  },
  {
   "cell_type": "markdown",
   "metadata": {},
   "source": [
    "## Desafio\n",
    "\n",
    "Existe uma função chamada describe() na biblioteca Pandas que é capaz de descrever estatisticamente os dados.\n",
    "\n",
    "Essa função pode ser usada em dados numéricos ou categóricos.\n",
    "\n",
    "Desafiamos você a aplicar essa função em ambos os tipos de dados para enriquecer nossa compreensão das informações."
   ]
  },
  {
   "cell_type": "code",
   "execution_count": 4,
   "metadata": {},
   "outputs": [
    {
     "data": {
      "text/html": [
       "<div>\n",
       "<style scoped>\n",
       "    .dataframe tbody tr th:only-of-type {\n",
       "        vertical-align: middle;\n",
       "    }\n",
       "\n",
       "    .dataframe tbody tr th {\n",
       "        vertical-align: top;\n",
       "    }\n",
       "\n",
       "    .dataframe thead th {\n",
       "        text-align: right;\n",
       "    }\n",
       "</style>\n",
       "<table border=\"1\" class=\"dataframe\">\n",
       "  <thead>\n",
       "    <tr style=\"text-align: right;\">\n",
       "      <th></th>\n",
       "      <th>Idade na matrícula</th>\n",
       "      <th>Taxa de desemprego</th>\n",
       "      <th>Taxa de inflação</th>\n",
       "      <th>PIB</th>\n",
       "      <th>disciplinas 1º semestre (creditadas)</th>\n",
       "      <th>disciplinas 1º semestre (matriculadas)</th>\n",
       "      <th>disciplinas 1º semestre (avaliações)</th>\n",
       "      <th>disciplinas 1º semestre (aprovadas)</th>\n",
       "      <th>disciplinas 1º semestre (notas)</th>\n",
       "      <th>disciplinas 1º semestre (sem avaliações)</th>\n",
       "      <th>disciplinas 2º semestre (creditadas)</th>\n",
       "      <th>disciplinas 2º semestre (matriculadas)</th>\n",
       "      <th>disciplinas 2º semestre (avaliações)</th>\n",
       "      <th>disciplinas 2º semestre (aprovadas)</th>\n",
       "      <th>disciplinas 2º semestre (notas)</th>\n",
       "      <th>disciplinas 2º semestre (sem avaliações)</th>\n",
       "    </tr>\n",
       "  </thead>\n",
       "  <tbody>\n",
       "    <tr>\n",
       "      <th>count</th>\n",
       "      <td>4424.000000</td>\n",
       "      <td>4424.000000</td>\n",
       "      <td>4424.000000</td>\n",
       "      <td>4424.000000</td>\n",
       "      <td>4424.000000</td>\n",
       "      <td>4424.000000</td>\n",
       "      <td>4424.000000</td>\n",
       "      <td>4424.000000</td>\n",
       "      <td>4424.000000</td>\n",
       "      <td>4424.000000</td>\n",
       "      <td>4424.000000</td>\n",
       "      <td>4424.000000</td>\n",
       "      <td>4424.000000</td>\n",
       "      <td>4424.000000</td>\n",
       "      <td>4424.000000</td>\n",
       "      <td>4424.000000</td>\n",
       "    </tr>\n",
       "    <tr>\n",
       "      <th>mean</th>\n",
       "      <td>23.265145</td>\n",
       "      <td>11.566139</td>\n",
       "      <td>1.228029</td>\n",
       "      <td>0.001969</td>\n",
       "      <td>0.709991</td>\n",
       "      <td>6.270570</td>\n",
       "      <td>8.299051</td>\n",
       "      <td>4.706600</td>\n",
       "      <td>10.640822</td>\n",
       "      <td>0.137658</td>\n",
       "      <td>0.541817</td>\n",
       "      <td>6.232143</td>\n",
       "      <td>8.063291</td>\n",
       "      <td>4.435805</td>\n",
       "      <td>10.230206</td>\n",
       "      <td>0.150316</td>\n",
       "    </tr>\n",
       "    <tr>\n",
       "      <th>std</th>\n",
       "      <td>7.587816</td>\n",
       "      <td>2.663850</td>\n",
       "      <td>1.382711</td>\n",
       "      <td>2.269935</td>\n",
       "      <td>2.360507</td>\n",
       "      <td>2.480178</td>\n",
       "      <td>4.179106</td>\n",
       "      <td>3.094238</td>\n",
       "      <td>4.843663</td>\n",
       "      <td>0.690880</td>\n",
       "      <td>1.918546</td>\n",
       "      <td>2.195951</td>\n",
       "      <td>3.947951</td>\n",
       "      <td>3.014764</td>\n",
       "      <td>5.210808</td>\n",
       "      <td>0.753774</td>\n",
       "    </tr>\n",
       "    <tr>\n",
       "      <th>min</th>\n",
       "      <td>17.000000</td>\n",
       "      <td>7.600000</td>\n",
       "      <td>-0.800000</td>\n",
       "      <td>-4.060000</td>\n",
       "      <td>0.000000</td>\n",
       "      <td>0.000000</td>\n",
       "      <td>0.000000</td>\n",
       "      <td>0.000000</td>\n",
       "      <td>0.000000</td>\n",
       "      <td>0.000000</td>\n",
       "      <td>0.000000</td>\n",
       "      <td>0.000000</td>\n",
       "      <td>0.000000</td>\n",
       "      <td>0.000000</td>\n",
       "      <td>0.000000</td>\n",
       "      <td>0.000000</td>\n",
       "    </tr>\n",
       "    <tr>\n",
       "      <th>25%</th>\n",
       "      <td>19.000000</td>\n",
       "      <td>9.400000</td>\n",
       "      <td>0.300000</td>\n",
       "      <td>-1.700000</td>\n",
       "      <td>0.000000</td>\n",
       "      <td>5.000000</td>\n",
       "      <td>6.000000</td>\n",
       "      <td>3.000000</td>\n",
       "      <td>11.000000</td>\n",
       "      <td>0.000000</td>\n",
       "      <td>0.000000</td>\n",
       "      <td>5.000000</td>\n",
       "      <td>6.000000</td>\n",
       "      <td>2.000000</td>\n",
       "      <td>10.750000</td>\n",
       "      <td>0.000000</td>\n",
       "    </tr>\n",
       "    <tr>\n",
       "      <th>50%</th>\n",
       "      <td>20.000000</td>\n",
       "      <td>11.100000</td>\n",
       "      <td>1.400000</td>\n",
       "      <td>0.320000</td>\n",
       "      <td>0.000000</td>\n",
       "      <td>6.000000</td>\n",
       "      <td>8.000000</td>\n",
       "      <td>5.000000</td>\n",
       "      <td>12.285714</td>\n",
       "      <td>0.000000</td>\n",
       "      <td>0.000000</td>\n",
       "      <td>6.000000</td>\n",
       "      <td>8.000000</td>\n",
       "      <td>5.000000</td>\n",
       "      <td>12.200000</td>\n",
       "      <td>0.000000</td>\n",
       "    </tr>\n",
       "    <tr>\n",
       "      <th>75%</th>\n",
       "      <td>25.000000</td>\n",
       "      <td>13.900000</td>\n",
       "      <td>2.600000</td>\n",
       "      <td>1.790000</td>\n",
       "      <td>0.000000</td>\n",
       "      <td>7.000000</td>\n",
       "      <td>10.000000</td>\n",
       "      <td>6.000000</td>\n",
       "      <td>13.400000</td>\n",
       "      <td>0.000000</td>\n",
       "      <td>0.000000</td>\n",
       "      <td>7.000000</td>\n",
       "      <td>10.000000</td>\n",
       "      <td>6.000000</td>\n",
       "      <td>13.333333</td>\n",
       "      <td>0.000000</td>\n",
       "    </tr>\n",
       "    <tr>\n",
       "      <th>max</th>\n",
       "      <td>70.000000</td>\n",
       "      <td>16.200000</td>\n",
       "      <td>3.700000</td>\n",
       "      <td>3.510000</td>\n",
       "      <td>20.000000</td>\n",
       "      <td>26.000000</td>\n",
       "      <td>45.000000</td>\n",
       "      <td>26.000000</td>\n",
       "      <td>18.875000</td>\n",
       "      <td>12.000000</td>\n",
       "      <td>19.000000</td>\n",
       "      <td>23.000000</td>\n",
       "      <td>33.000000</td>\n",
       "      <td>20.000000</td>\n",
       "      <td>18.571429</td>\n",
       "      <td>12.000000</td>\n",
       "    </tr>\n",
       "  </tbody>\n",
       "</table>\n",
       "</div>"
      ],
      "text/plain": [
       "       Idade na matrícula  Taxa de desemprego  Taxa de inflação          PIB  \\\n",
       "count         4424.000000         4424.000000       4424.000000  4424.000000   \n",
       "mean            23.265145           11.566139          1.228029     0.001969   \n",
       "std              7.587816            2.663850          1.382711     2.269935   \n",
       "min             17.000000            7.600000         -0.800000    -4.060000   \n",
       "25%             19.000000            9.400000          0.300000    -1.700000   \n",
       "50%             20.000000           11.100000          1.400000     0.320000   \n",
       "75%             25.000000           13.900000          2.600000     1.790000   \n",
       "max             70.000000           16.200000          3.700000     3.510000   \n",
       "\n",
       "       disciplinas 1º semestre (creditadas)  \\\n",
       "count                           4424.000000   \n",
       "mean                               0.709991   \n",
       "std                                2.360507   \n",
       "min                                0.000000   \n",
       "25%                                0.000000   \n",
       "50%                                0.000000   \n",
       "75%                                0.000000   \n",
       "max                               20.000000   \n",
       "\n",
       "       disciplinas 1º semestre (matriculadas)  \\\n",
       "count                             4424.000000   \n",
       "mean                                 6.270570   \n",
       "std                                  2.480178   \n",
       "min                                  0.000000   \n",
       "25%                                  5.000000   \n",
       "50%                                  6.000000   \n",
       "75%                                  7.000000   \n",
       "max                                 26.000000   \n",
       "\n",
       "       disciplinas 1º semestre (avaliações)  \\\n",
       "count                           4424.000000   \n",
       "mean                               8.299051   \n",
       "std                                4.179106   \n",
       "min                                0.000000   \n",
       "25%                                6.000000   \n",
       "50%                                8.000000   \n",
       "75%                               10.000000   \n",
       "max                               45.000000   \n",
       "\n",
       "       disciplinas 1º semestre (aprovadas)  disciplinas 1º semestre (notas)  \\\n",
       "count                          4424.000000                      4424.000000   \n",
       "mean                              4.706600                        10.640822   \n",
       "std                               3.094238                         4.843663   \n",
       "min                               0.000000                         0.000000   \n",
       "25%                               3.000000                        11.000000   \n",
       "50%                               5.000000                        12.285714   \n",
       "75%                               6.000000                        13.400000   \n",
       "max                              26.000000                        18.875000   \n",
       "\n",
       "       disciplinas 1º semestre (sem avaliações)  \\\n",
       "count                               4424.000000   \n",
       "mean                                   0.137658   \n",
       "std                                    0.690880   \n",
       "min                                    0.000000   \n",
       "25%                                    0.000000   \n",
       "50%                                    0.000000   \n",
       "75%                                    0.000000   \n",
       "max                                   12.000000   \n",
       "\n",
       "       disciplinas 2º semestre (creditadas)  \\\n",
       "count                           4424.000000   \n",
       "mean                               0.541817   \n",
       "std                                1.918546   \n",
       "min                                0.000000   \n",
       "25%                                0.000000   \n",
       "50%                                0.000000   \n",
       "75%                                0.000000   \n",
       "max                               19.000000   \n",
       "\n",
       "       disciplinas 2º semestre (matriculadas)  \\\n",
       "count                             4424.000000   \n",
       "mean                                 6.232143   \n",
       "std                                  2.195951   \n",
       "min                                  0.000000   \n",
       "25%                                  5.000000   \n",
       "50%                                  6.000000   \n",
       "75%                                  7.000000   \n",
       "max                                 23.000000   \n",
       "\n",
       "       disciplinas 2º semestre (avaliações)  \\\n",
       "count                           4424.000000   \n",
       "mean                               8.063291   \n",
       "std                                3.947951   \n",
       "min                                0.000000   \n",
       "25%                                6.000000   \n",
       "50%                                8.000000   \n",
       "75%                               10.000000   \n",
       "max                               33.000000   \n",
       "\n",
       "       disciplinas 2º semestre (aprovadas)  disciplinas 2º semestre (notas)  \\\n",
       "count                          4424.000000                      4424.000000   \n",
       "mean                              4.435805                        10.230206   \n",
       "std                               3.014764                         5.210808   \n",
       "min                               0.000000                         0.000000   \n",
       "25%                               2.000000                        10.750000   \n",
       "50%                               5.000000                        12.200000   \n",
       "75%                               6.000000                        13.333333   \n",
       "max                              20.000000                        18.571429   \n",
       "\n",
       "       disciplinas 2º semestre (sem avaliações)  \n",
       "count                               4424.000000  \n",
       "mean                                   0.150316  \n",
       "std                                    0.753774  \n",
       "min                                    0.000000  \n",
       "25%                                    0.000000  \n",
       "50%                                    0.000000  \n",
       "75%                                    0.000000  \n",
       "max                                   12.000000  "
      ]
     },
     "execution_count": 4,
     "metadata": {},
     "output_type": "execute_result"
    }
   ],
   "source": [
    "# by default, describe will show info for numerical features\n",
    "df.describe()"
   ]
  },
  {
   "cell_type": "code",
   "execution_count": 5,
   "metadata": {},
   "outputs": [
    {
     "data": {
      "text/html": [
       "<div>\n",
       "<style scoped>\n",
       "    .dataframe tbody tr th:only-of-type {\n",
       "        vertical-align: middle;\n",
       "    }\n",
       "\n",
       "    .dataframe tbody tr th {\n",
       "        vertical-align: top;\n",
       "    }\n",
       "\n",
       "    .dataframe thead th {\n",
       "        text-align: right;\n",
       "    }\n",
       "</style>\n",
       "<table border=\"1\" class=\"dataframe\">\n",
       "  <thead>\n",
       "    <tr style=\"text-align: right;\">\n",
       "      <th></th>\n",
       "      <th>Estado civil</th>\n",
       "      <th>Migração</th>\n",
       "      <th>Sexo</th>\n",
       "      <th>Estrangeiro</th>\n",
       "      <th>Necessidades educacionais especiais</th>\n",
       "      <th>Devedor</th>\n",
       "      <th>Taxas de matrícula em dia</th>\n",
       "      <th>Bolsista</th>\n",
       "      <th>Curso</th>\n",
       "      <th>Período</th>\n",
       "      <th>Qualificação prévia</th>\n",
       "      <th>Target</th>\n",
       "    </tr>\n",
       "  </thead>\n",
       "  <tbody>\n",
       "    <tr>\n",
       "      <th>count</th>\n",
       "      <td>4424</td>\n",
       "      <td>4424</td>\n",
       "      <td>4424</td>\n",
       "      <td>4424</td>\n",
       "      <td>4424</td>\n",
       "      <td>4424</td>\n",
       "      <td>4424</td>\n",
       "      <td>4424</td>\n",
       "      <td>4424</td>\n",
       "      <td>4424</td>\n",
       "      <td>4424</td>\n",
       "      <td>4424</td>\n",
       "    </tr>\n",
       "    <tr>\n",
       "      <th>unique</th>\n",
       "      <td>6</td>\n",
       "      <td>2</td>\n",
       "      <td>2</td>\n",
       "      <td>2</td>\n",
       "      <td>2</td>\n",
       "      <td>2</td>\n",
       "      <td>2</td>\n",
       "      <td>2</td>\n",
       "      <td>17</td>\n",
       "      <td>2</td>\n",
       "      <td>17</td>\n",
       "      <td>3</td>\n",
       "    </tr>\n",
       "    <tr>\n",
       "      <th>top</th>\n",
       "      <td>Solteiro</td>\n",
       "      <td>Sim</td>\n",
       "      <td>Feminino</td>\n",
       "      <td>Não</td>\n",
       "      <td>Não</td>\n",
       "      <td>Não</td>\n",
       "      <td>Sim</td>\n",
       "      <td>Não</td>\n",
       "      <td>Enfermagem</td>\n",
       "      <td>Diurno</td>\n",
       "      <td>Educação secundária</td>\n",
       "      <td>Graduado</td>\n",
       "    </tr>\n",
       "    <tr>\n",
       "      <th>freq</th>\n",
       "      <td>3919</td>\n",
       "      <td>2426</td>\n",
       "      <td>2868</td>\n",
       "      <td>4314</td>\n",
       "      <td>4373</td>\n",
       "      <td>3921</td>\n",
       "      <td>3896</td>\n",
       "      <td>3325</td>\n",
       "      <td>766</td>\n",
       "      <td>3941</td>\n",
       "      <td>3717</td>\n",
       "      <td>2209</td>\n",
       "    </tr>\n",
       "  </tbody>\n",
       "</table>\n",
       "</div>"
      ],
      "text/plain": [
       "       Estado civil Migração      Sexo Estrangeiro  \\\n",
       "count          4424     4424      4424        4424   \n",
       "unique            6        2         2           2   \n",
       "top        Solteiro      Sim  Feminino         Não   \n",
       "freq           3919     2426      2868        4314   \n",
       "\n",
       "       Necessidades educacionais especiais Devedor Taxas de matrícula em dia  \\\n",
       "count                                 4424    4424                      4424   \n",
       "unique                                   2       2                         2   \n",
       "top                                    Não     Não                       Sim   \n",
       "freq                                  4373    3921                      3896   \n",
       "\n",
       "       Bolsista       Curso Período  Qualificação prévia    Target  \n",
       "count      4424        4424    4424                 4424      4424  \n",
       "unique        2          17       2                   17         3  \n",
       "top         Não  Enfermagem  Diurno  Educação secundária  Graduado  \n",
       "freq       3325         766    3941                 3717      2209  "
      ]
     },
     "execution_count": 5,
     "metadata": {},
     "output_type": "execute_result"
    }
   ],
   "source": [
    "# selecting only categorical features to apply the describe\n",
    "categorical_features = ['Estado civil', 'Migração', 'Sexo', 'Estrangeiro', 'Necessidades educacionais especiais', 'Devedor',  'Taxas de matrícula em dia', 'Bolsista', 'Curso', 'Período', 'Qualificação prévia', 'Target']\n",
    "\n",
    "df[categorical_features].describe()"
   ]
  },
  {
   "cell_type": "markdown",
   "metadata": {},
   "source": [
    "## EDA\n",
    "\n",
    "### Análise demográfica"
   ]
  },
  {
   "cell_type": "code",
   "execution_count": 6,
   "metadata": {},
   "outputs": [
    {
     "data": {
      "text/plain": [
       "Solteiro               88.584991\n",
       "Casado                  8.566908\n",
       "Divorciado              2.056962\n",
       "União Estável           0.565099\n",
       "Legalmente Separado     0.135624\n",
       "Viúvo                   0.090416\n",
       "Name: Estado civil, dtype: float64"
      ]
     },
     "execution_count": 6,
     "metadata": {},
     "output_type": "execute_result"
    }
   ],
   "source": [
    "# percentage of the values available in the selected feature\n",
    "df['Estado civil'].value_counts(normalize=True)*100"
   ]
  },
  {
   "cell_type": "code",
   "execution_count": 7,
   "metadata": {},
   "outputs": [],
   "source": [
    "import matplotlib.pyplot as plt\n",
    "import seaborn as sns"
   ]
  },
  {
   "cell_type": "code",
   "execution_count": 8,
   "metadata": {},
   "outputs": [
    {
     "data": {
      "image/png": "[encoded data removed]",
      "text/plain": [
       "<Figure size 500x500 with 1 Axes>"
      ]
     },
     "metadata": {},
     "output_type": "display_data"
    }
   ],
   "source": [
    "sns.displot(df['Idade na matrícula'], bins=20)\n",
    "plt.show()"
   ]
  },
  {
   "cell_type": "markdown",
   "metadata": {},
   "source": [
    "Vamos analisar a coluna \"Target\" com relação à idade, aplicando uma cor diferente para cada valor de target. Podemos informar as cores a serem utilizadas por meio da função `set_palette`, que irá utilizar as cores na ordem em que aparecem na lista passada via parâmetro."
   ]
  },
  {
   "cell_type": "code",
   "execution_count": 9,
   "metadata": {},
   "outputs": [],
   "source": [
    "color_dict = {'Desistente': '#e34c42', 'Graduado': '#4dc471', 'Matriculado': '#3b71db'}\n",
    "sns.set_palette(list(color_dict.values()))"
   ]
  },
  {
   "cell_type": "code",
   "execution_count": 10,
   "metadata": {},
   "outputs": [
    {
     "data": {
      "image/png": "[encoded data removed]",
      "text/plain": [
       "<Figure size 632x500 with 1 Axes>"
      ]
     },
     "metadata": {},
     "output_type": "display_data"
    }
   ],
   "source": [
    "sns.displot(df, x='Idade na matrícula', hue='Target', kind='kde', fill=True)\n",
    "plt.show()"
   ]
  },
  {
   "cell_type": "markdown",
   "metadata": {},
   "source": [
    "Podemos observar que a desistência aumenta conforme a idade na matrícula aumenta."
   ]
  },
  {
   "cell_type": "code",
   "execution_count": 11,
   "metadata": {},
   "outputs": [
    {
     "data": {
      "text/plain": [
       "Não    97.513562\n",
       "Sim     2.486438\n",
       "Name: Estrangeiro, dtype: float64"
      ]
     },
     "execution_count": 11,
     "metadata": {},
     "output_type": "execute_result"
    }
   ],
   "source": [
    "df.Estrangeiro.value_counts(normalize=True)*100"
   ]
  },
  {
   "cell_type": "code",
   "execution_count": 12,
   "metadata": {},
   "outputs": [
    {
     "data": {
      "text/plain": [
       "Feminino     64.82821\n",
       "Masculino    35.17179\n",
       "Name: Sexo, dtype: float64"
      ]
     },
     "execution_count": 12,
     "metadata": {},
     "output_type": "execute_result"
    }
   ],
   "source": [
    "df.Sexo.value_counts(normalize=True)*100"
   ]
  },
  {
   "cell_type": "markdown",
   "metadata": {},
   "source": [
    "Vamos verificar o sexo biológico da pessoa e a coluna Target:"
   ]
  },
  {
   "cell_type": "code",
   "execution_count": 13,
   "metadata": {},
   "outputs": [
    {
     "data": {
      "image/png": "[encoded data removed]",
      "text/plain": [
       "<Figure size 640x480 with 1 Axes>"
      ]
     },
     "metadata": {},
     "output_type": "display_data"
    }
   ],
   "source": [
    "sns.countplot(data=df, x='Sexo', hue='Target')\n",
    "plt.show()"
   ]
  },
  {
   "cell_type": "markdown",
   "metadata": {},
   "source": [
    "Mesmo gráfico sem o `hue`"
   ]
  },
  {
   "cell_type": "code",
   "execution_count": 14,
   "metadata": {},
   "outputs": [
    {
     "data": {
      "image/png": "[encoded data removed]",
      "text/plain": [
       "<Figure size 640x480 with 1 Axes>"
      ]
     },
     "metadata": {},
     "output_type": "display_data"
    }
   ],
   "source": [
    "sns.countplot(data=df, x='Sexo')\n",
    "plt.show()"
   ]
  },
  {
   "cell_type": "markdown",
   "metadata": {},
   "source": [
    "### Análise econômica"
   ]
  },
  {
   "cell_type": "code",
   "execution_count": 15,
   "metadata": {},
   "outputs": [
    {
     "data": {
      "image/png": "[encoded data removed]",
      "text/plain": [
       "<Figure size 640x480 with 1 Axes>"
      ]
     },
     "metadata": {},
     "output_type": "display_data"
    }
   ],
   "source": [
    "sns.countplot(data=df, x='Devedor', hue='Target')\n",
    "plt.show()"
   ]
  },
  {
   "cell_type": "code",
   "execution_count": 16,
   "metadata": {},
   "outputs": [
    {
     "data": {
      "image/png": "[encoded data removed]",
      "text/plain": [
       "<Figure size 640x480 with 1 Axes>"
      ]
     },
     "metadata": {},
     "output_type": "display_data"
    }
   ],
   "source": [
    "sns.countplot(data=df, x='Taxas de matrícula em dia', hue='Target')\n",
    "plt.show()"
   ]
  },
  {
   "cell_type": "markdown",
   "metadata": {},
   "source": [
    "Podemos perceber que, nas pessoas com algum problema ecônomico (devendo mensalidades ou sem a matrícula em dia), a quantidade de desistentes é maior. Mas será que o mesmo comportamento pode ser visto nos alunos bolsistas (que não pagam mensalidade ou recebem algum auxílio)? Segue o plot abaixo:"
   ]
  },
  {
   "cell_type": "code",
   "execution_count": 17,
   "metadata": {},
   "outputs": [
    {
     "data": {
      "image/png": "[encoded data removed]",
      "text/plain": [
       "<Figure size 640x480 with 1 Axes>"
      ]
     },
     "metadata": {},
     "output_type": "display_data"
    }
   ],
   "source": [
    "sns.countplot(data=df, x='Bolsista', hue='Target')\n",
    "plt.show()"
   ]
  },
  {
   "cell_type": "markdown",
   "metadata": {},
   "source": [
    "### Análise dos cursos\n",
    "\n",
    "Iremos utilizar o plotly para fazer um gráfico interativo."
   ]
  },
  {
   "cell_type": "code",
   "execution_count": 18,
   "metadata": {},
   "outputs": [],
   "source": [
    "import plotly.express as px"
   ]
  },
  {
   "cell_type": "code",
   "execution_count": 19,
   "metadata": {},
   "outputs": [
    {
     "data": {
      "text/plain": [
       "Curso                                       Target     \n",
       "Agronomia                                   Desistente      86\n",
       "                                            Graduado        87\n",
       "                                            Matriculado     37\n",
       "Animação e Design Multimídia                Desistente      82\n",
       "                                            Graduado        96\n",
       "                                            Matriculado     37\n",
       "Design de Comunicação                       Desistente      51\n",
       "                                            Graduado       133\n",
       "                                            Matriculado     42\n",
       "Educação Básica                             Desistente      85\n",
       "                                            Graduado        57\n",
       "                                            Matriculado     50\n",
       "Enfermagem                                  Desistente     118\n",
       "                                            Graduado       548\n",
       "                                            Matriculado    100\n",
       "Enfermagem Veterinária                      Desistente      90\n",
       "                                            Graduado       172\n",
       "                                            Matriculado     75\n",
       "Engenharia da computação                    Desistente      92\n",
       "                                            Graduado        14\n",
       "                                            Matriculado     64\n",
       "Gestão                                      Desistente     134\n",
       "                                            Graduado       138\n",
       "                                            Matriculado    108\n",
       "Gestão (noturno)                            Desistente     136\n",
       "                                            Graduado        78\n",
       "                                            Matriculado     54\n",
       "Gestão de Publicidade e Marketing           Desistente      95\n",
       "                                            Graduado       125\n",
       "                                            Matriculado     48\n",
       "Jornalismo e Comunicação                    Desistente     101\n",
       "                                            Graduado       196\n",
       "                                            Matriculado     34\n",
       "Odontologia                                 Desistente      33\n",
       "                                            Graduado        36\n",
       "                                            Matriculado     17\n",
       "Serviço Social                              Desistente      65\n",
       "                                            Graduado       248\n",
       "                                            Matriculado     42\n",
       "Serviço Social (noturno)                    Desistente      71\n",
       "                                            Graduado       123\n",
       "                                            Matriculado     21\n",
       "Tecnologias de Produção de Biocombustíveis  Desistente       8\n",
       "                                            Graduado         1\n",
       "                                            Matriculado      3\n",
       "Turismo                                     Desistente      96\n",
       "                                            Graduado       115\n",
       "                                            Matriculado     41\n",
       "Zootecnia                                   Desistente      78\n",
       "                                            Graduado        42\n",
       "                                            Matriculado     21\n",
       "dtype: int64"
      ]
     },
     "execution_count": 19,
     "metadata": {},
     "output_type": "execute_result"
    }
   ],
   "source": [
    "# group by Curso and then by Target and sum the ocurrences of each class in Target, by Curso\n",
    "contagem_por_curso = df.groupby(['Curso', 'Target']).size()\n",
    "contagem_por_curso"
   ]
  },
  {
   "cell_type": "markdown",
   "metadata": {},
   "source": [
    "Esse agrupamento retornou uma Series, em que cada entrada possui Curso e Target como índices. Podemos resetar esse índice e dar um nome à coluna que tem os valores, criando assim um DataFrame.\n",
    "\n",
    "- Quando o índice é resetado, o índice anterior é transformado em uma coluna. Neste caso, os índices Curso e Target viram colunas."
   ]
  },
  {
   "cell_type": "code",
   "execution_count": 20,
   "metadata": {},
   "outputs": [
    {
     "data": {
      "text/html": [
       "<div>\n",
       "<style scoped>\n",
       "    .dataframe tbody tr th:only-of-type {\n",
       "        vertical-align: middle;\n",
       "    }\n",
       "\n",
       "    .dataframe tbody tr th {\n",
       "        vertical-align: top;\n",
       "    }\n",
       "\n",
       "    .dataframe thead th {\n",
       "        text-align: right;\n",
       "    }\n",
       "</style>\n",
       "<table border=\"1\" class=\"dataframe\">\n",
       "  <thead>\n",
       "    <tr style=\"text-align: right;\">\n",
       "      <th></th>\n",
       "      <th>Curso</th>\n",
       "      <th>Target</th>\n",
       "      <th>Contagem</th>\n",
       "    </tr>\n",
       "  </thead>\n",
       "  <tbody>\n",
       "    <tr>\n",
       "      <th>0</th>\n",
       "      <td>Agronomia</td>\n",
       "      <td>Desistente</td>\n",
       "      <td>86</td>\n",
       "    </tr>\n",
       "    <tr>\n",
       "      <th>1</th>\n",
       "      <td>Agronomia</td>\n",
       "      <td>Graduado</td>\n",
       "      <td>87</td>\n",
       "    </tr>\n",
       "    <tr>\n",
       "      <th>2</th>\n",
       "      <td>Agronomia</td>\n",
       "      <td>Matriculado</td>\n",
       "      <td>37</td>\n",
       "    </tr>\n",
       "    <tr>\n",
       "      <th>3</th>\n",
       "      <td>Animação e Design Multimídia</td>\n",
       "      <td>Desistente</td>\n",
       "      <td>82</td>\n",
       "    </tr>\n",
       "    <tr>\n",
       "      <th>4</th>\n",
       "      <td>Animação e Design Multimídia</td>\n",
       "      <td>Graduado</td>\n",
       "      <td>96</td>\n",
       "    </tr>\n",
       "  </tbody>\n",
       "</table>\n",
       "</div>"
      ],
      "text/plain": [
       "                          Curso       Target  Contagem\n",
       "0                     Agronomia   Desistente        86\n",
       "1                     Agronomia     Graduado        87\n",
       "2                     Agronomia  Matriculado        37\n",
       "3  Animação e Design Multimídia   Desistente        82\n",
       "4  Animação e Design Multimídia     Graduado        96"
      ]
     },
     "execution_count": 20,
     "metadata": {},
     "output_type": "execute_result"
    }
   ],
   "source": [
    "contagem_por_curso = df.groupby(['Curso', 'Target']).size().reset_index(name='Contagem')\n",
    "contagem_por_curso.head()"
   ]
  },
  {
   "cell_type": "markdown",
   "metadata": {},
   "source": [
    "Podemos também adicionar uma nova coluna que informa a porcentagem de cada Target para cada Curso, com base na contagem total por curso:"
   ]
  },
  {
   "cell_type": "code",
   "execution_count": 21,
   "metadata": {},
   "outputs": [
    {
     "data": {
      "text/html": [
       "<div>\n",
       "<style scoped>\n",
       "    .dataframe tbody tr th:only-of-type {\n",
       "        vertical-align: middle;\n",
       "    }\n",
       "\n",
       "    .dataframe tbody tr th {\n",
       "        vertical-align: top;\n",
       "    }\n",
       "\n",
       "    .dataframe thead th {\n",
       "        text-align: right;\n",
       "    }\n",
       "</style>\n",
       "<table border=\"1\" class=\"dataframe\">\n",
       "  <thead>\n",
       "    <tr style=\"text-align: right;\">\n",
       "      <th></th>\n",
       "      <th>Curso</th>\n",
       "      <th>Target</th>\n",
       "      <th>Contagem</th>\n",
       "      <th>Porcentagem</th>\n",
       "    </tr>\n",
       "  </thead>\n",
       "  <tbody>\n",
       "    <tr>\n",
       "      <th>0</th>\n",
       "      <td>Agronomia</td>\n",
       "      <td>Desistente</td>\n",
       "      <td>86</td>\n",
       "      <td>40.952381</td>\n",
       "    </tr>\n",
       "    <tr>\n",
       "      <th>1</th>\n",
       "      <td>Agronomia</td>\n",
       "      <td>Graduado</td>\n",
       "      <td>87</td>\n",
       "      <td>41.428571</td>\n",
       "    </tr>\n",
       "    <tr>\n",
       "      <th>2</th>\n",
       "      <td>Agronomia</td>\n",
       "      <td>Matriculado</td>\n",
       "      <td>37</td>\n",
       "      <td>17.619048</td>\n",
       "    </tr>\n",
       "    <tr>\n",
       "      <th>3</th>\n",
       "      <td>Animação e Design Multimídia</td>\n",
       "      <td>Desistente</td>\n",
       "      <td>82</td>\n",
       "      <td>38.139535</td>\n",
       "    </tr>\n",
       "    <tr>\n",
       "      <th>4</th>\n",
       "      <td>Animação e Design Multimídia</td>\n",
       "      <td>Graduado</td>\n",
       "      <td>96</td>\n",
       "      <td>44.651163</td>\n",
       "    </tr>\n",
       "    <tr>\n",
       "      <th>5</th>\n",
       "      <td>Animação e Design Multimídia</td>\n",
       "      <td>Matriculado</td>\n",
       "      <td>37</td>\n",
       "      <td>17.209302</td>\n",
       "    </tr>\n",
       "  </tbody>\n",
       "</table>\n",
       "</div>"
      ],
      "text/plain": [
       "                          Curso       Target  Contagem  Porcentagem\n",
       "0                     Agronomia   Desistente        86    40.952381\n",
       "1                     Agronomia     Graduado        87    41.428571\n",
       "2                     Agronomia  Matriculado        37    17.619048\n",
       "3  Animação e Design Multimídia   Desistente        82    38.139535\n",
       "4  Animação e Design Multimídia     Graduado        96    44.651163\n",
       "5  Animação e Design Multimídia  Matriculado        37    17.209302"
      ]
     },
     "execution_count": 21,
     "metadata": {},
     "output_type": "execute_result"
    }
   ],
   "source": [
    "# for each grouped \"Curso\", for each row in each group, apply the lambda to get the percentage to the total for that group\n",
    "contagem_por_curso['Porcentagem'] = contagem_por_curso.groupby('Curso')['Contagem'].transform(lambda x: (x/x.sum())*100)\n",
    "\n",
    "contagem_por_curso.head(6)"
   ]
  },
  {
   "cell_type": "markdown",
   "metadata": {},
   "source": [
    "Plotando o resultado:"
   ]
  },
  {
   "cell_type": "code",
   "execution_count": 22,
   "metadata": {},
   "outputs": [],
   "source": [
    "fig = px.bar(contagem_por_curso, y='Curso', x='Porcentagem', color='Target', color_discrete_map=color_dict)\n"
   ]
  },
  {
   "cell_type": "code",
   "execution_count": 23,
   "metadata": {},
   "outputs": [
    {
     "data": {
      "application/vnd.plotly.v1+json": {
       "config": {
        "plotlyServerURL": "https://plot.ly"
       },
       "data": [
        {
         "alignmentgroup": "True",
         "hovertemplate": "Target=Desistente<br>Porcentagem=%{x}<br>Curso=%{y}<extra></extra>",
         "legendgroup": "Desistente",
         "marker": {
          "color": "#e34c42",
          "pattern": {
           "shape": ""
          }
         },
         "name": "Desistente",
         "offsetgroup": "Desistente",
         "orientation": "h",
         "showlegend": true,
         "textposition": "auto",
         "type": "bar",
         "x": [
          40.95238095238095,
          38.139534883720934,
          22.566371681415927,
          44.27083333333333,
          15.404699738903393,
          26.706231454005934,
          54.11764705882353,
          35.26315789473684,
          50.74626865671642,
          35.44776119402985,
          30.513595166163142,
          38.372093023255815,
          18.30985915492958,
          33.02325581395349,
          66.66666666666666,
          38.095238095238095,
          55.319148936170215
         ],
         "xaxis": "x",
         "y": [
          "Agronomia",
          "Animação e Design Multimídia",
          "Design de Comunicação",
          "Educação Básica",
          "Enfermagem",
          "Enfermagem Veterinária",
          "Engenharia da computação",
          "Gestão",
          "Gestão (noturno)",
          "Gestão de Publicidade e Marketing",
          "Jornalismo e Comunicação",
          "Odontologia",
          "Serviço Social",
          "Serviço Social (noturno)",
          "Tecnologias de Produção de Biocombustíveis",
          "Turismo",
          "Zootecnia"
         ],
         "yaxis": "y"
        },
        {
         "alignmentgroup": "True",
         "hovertemplate": "Target=Graduado<br>Porcentagem=%{x}<br>Curso=%{y}<extra></extra>",
         "legendgroup": "Graduado",
         "marker": {
          "color": "#4dc471",
          "pattern": {
           "shape": ""
          }
         },
         "name": "Graduado",
         "offsetgroup": "Graduado",
         "orientation": "h",
         "showlegend": true,
         "textposition": "auto",
         "type": "bar",
         "x": [
          41.42857142857143,
          44.651162790697676,
          58.849557522123895,
          29.6875,
          71.54046997389034,
          51.038575667655785,
          8.235294117647058,
          36.31578947368421,
          29.1044776119403,
          46.64179104477612,
          59.21450151057401,
          41.86046511627907,
          69.85915492957746,
          57.20930232558139,
          8.333333333333332,
          45.63492063492063,
          29.78723404255319
         ],
         "xaxis": "x",
         "y": [
          "Agronomia",
          "Animação e Design Multimídia",
          "Design de Comunicação",
          "Educação Básica",
          "Enfermagem",
          "Enfermagem Veterinária",
          "Engenharia da computação",
          "Gestão",
          "Gestão (noturno)",
          "Gestão de Publicidade e Marketing",
          "Jornalismo e Comunicação",
          "Odontologia",
          "Serviço Social",
          "Serviço Social (noturno)",
          "Tecnologias de Produção de Biocombustíveis",
          "Turismo",
          "Zootecnia"
         ],
         "yaxis": "y"
        },
        {
         "alignmentgroup": "True",
         "hovertemplate": "Target=Matriculado<br>Porcentagem=%{x}<br>Curso=%{y}<extra></extra>",
         "legendgroup": "Matriculado",
         "marker": {
          "color": "#3b71db",
          "pattern": {
           "shape": ""
          }
         },
         "name": "Matriculado",
         "offsetgroup": "Matriculado",
         "orientation": "h",
         "showlegend": true,
         "textposition": "auto",
         "type": "bar",
         "x": [
          17.61904761904762,
          17.209302325581397,
          18.58407079646018,
          26.041666666666668,
          13.054830287206268,
          22.255192878338278,
          37.64705882352941,
          28.421052631578945,
          20.149253731343283,
          17.91044776119403,
          10.27190332326284,
          19.767441860465116,
          11.830985915492958,
          9.767441860465116,
          25,
          16.26984126984127,
          14.893617021276595
         ],
         "xaxis": "x",
         "y": [
          "Agronomia",
          "Animação e Design Multimídia",
          "Design de Comunicação",
          "Educação Básica",
          "Enfermagem",
          "Enfermagem Veterinária",
          "Engenharia da computação",
          "Gestão",
          "Gestão (noturno)",
          "Gestão de Publicidade e Marketing",
          "Jornalismo e Comunicação",
          "Odontologia",
          "Serviço Social",
          "Serviço Social (noturno)",
          "Tecnologias de Produção de Biocombustíveis",
          "Turismo",
          "Zootecnia"
         ],
         "yaxis": "y"
        }
       ],
       "layout": {
        "barmode": "relative",
        "legend": {
         "title": {
          "text": "Target"
         },
         "tracegroupgap": 0
        },
        "margin": {
         "t": 60
        },
        "template": {
         "data": {
          "bar": [
           {
            "error_x": {
             "color": "#2a3f5f"
            },
            "error_y": {
             "color": "#2a3f5f"
            },
            "marker": {
             "line": {
              "color": "#E5ECF6",
              "width": 0.5
             },
             "pattern": {
              "fillmode": "overlay",
              "size": 10,
              "solidity": 0.2
             }
            },
            "type": "bar"
           }
          ],
          "barpolar": [
           {
            "marker": {
             "line": {
              "color": "#E5ECF6",
              "width": 0.5
             },
             "pattern": {
              "fillmode": "overlay",
              "size": 10,
              "solidity": 0.2
             }
            },
            "type": "barpolar"
           }
          ],
          "carpet": [
           {
            "aaxis": {
             "endlinecolor": "#2a3f5f",
             "gridcolor": "white",
             "linecolor": "white",
             "minorgridcolor": "white",
             "startlinecolor": "#2a3f5f"
            },
            "baxis": {
             "endlinecolor": "#2a3f5f",
             "gridcolor": "white",
             "linecolor": "white",
             "minorgridcolor": "white",
             "startlinecolor": "#2a3f5f"
            },
            "type": "carpet"
           }
          ],
          "choropleth": [
           {
            "colorbar": {
             "outlinewidth": 0,
             "ticks": ""
            },
            "type": "choropleth"
           }
          ],
          "contour": [
           {
            "colorbar": {
             "outlinewidth": 0,
             "ticks": ""
            },
            "colorscale": [
             [
              0,
              "#0d0887"
             ],
             [
              0.1111111111111111,
              "#46039f"
             ],
             [
              0.2222222222222222,
              "#7201a8"
             ],
             [
              0.3333333333333333,
              "#9c179e"
             ],
             [
              0.4444444444444444,
              "#bd3786"
             ],
             [
              0.5555555555555556,
              "#d8576b"
             ],
             [
              0.6666666666666666,
              "#ed7953"
             ],
             [
              0.7777777777777778,
              "#fb9f3a"
             ],
             [
              0.8888888888888888,
              "#fdca26"
             ],
             [
              1,
              "#f0f921"
             ]
            ],
            "type": "contour"
           }
          ],
          "contourcarpet": [
           {
            "colorbar": {
             "outlinewidth": 0,
             "ticks": ""
            },
            "type": "contourcarpet"
           }
          ],
          "heatmap": [
           {
            "colorbar": {
             "outlinewidth": 0,
             "ticks": ""
            },
            "colorscale": [
             [
              0,
              "#0d0887"
             ],
             [
              0.1111111111111111,
              "#46039f"
             ],
             [
              0.2222222222222222,
              "#7201a8"
             ],
             [
              0.3333333333333333,
              "#9c179e"
             ],
             [
              0.4444444444444444,
              "#bd3786"
             ],
             [
              0.5555555555555556,
              "#d8576b"
             ],
             [
              0.6666666666666666,
              "#ed7953"
             ],
             [
              0.7777777777777778,
              "#fb9f3a"
             ],
             [
              0.8888888888888888,
              "#fdca26"
             ],
             [
              1,
              "#f0f921"
             ]
            ],
            "type": "heatmap"
           }
          ],
          "heatmapgl": [
           {
            "colorbar": {
             "outlinewidth": 0,
             "ticks": ""
            },
            "colorscale": [
             [
              0,
              "#0d0887"
             ],
             [
              0.1111111111111111,
              "#46039f"
             ],
             [
              0.2222222222222222,
              "#7201a8"
             ],
             [
              0.3333333333333333,
              "#9c179e"
             ],
             [
              0.4444444444444444,
              "#bd3786"
             ],
             [
              0.5555555555555556,
              "#d8576b"
             ],
             [
              0.6666666666666666,
              "#ed7953"
             ],
             [
              0.7777777777777778,
              "#fb9f3a"
             ],
             [
              0.8888888888888888,
              "#fdca26"
             ],
             [
              1,
              "#f0f921"
             ]
            ],
            "type": "heatmapgl"
           }
          ],
          "histogram": [
           {
            "marker": {
             "pattern": {
              "fillmode": "overlay",
              "size": 10,
              "solidity": 0.2
             }
            },
            "type": "histogram"
           }
          ],
          "histogram2d": [
           {
            "colorbar": {
             "outlinewidth": 0,
             "ticks": ""
            },
            "colorscale": [
             [
              0,
              "#0d0887"
             ],
             [
              0.1111111111111111,
              "#46039f"
             ],
             [
              0.2222222222222222,
              "#7201a8"
             ],
             [
              0.3333333333333333,
              "#9c179e"
             ],
             [
              0.4444444444444444,
              "#bd3786"
             ],
             [
              0.5555555555555556,
              "#d8576b"
             ],
             [
              0.6666666666666666,
              "#ed7953"
             ],
             [
              0.7777777777777778,
              "#fb9f3a"
             ],
             [
              0.8888888888888888,
              "#fdca26"
             ],
             [
              1,
              "#f0f921"
             ]
            ],
            "type": "histogram2d"
           }
          ],
          "histogram2dcontour": [
           {
            "colorbar": {
             "outlinewidth": 0,
             "ticks": ""
            },
            "colorscale": [
             [
              0,
              "#0d0887"
             ],
             [
              0.1111111111111111,
              "#46039f"
             ],
             [
              0.2222222222222222,
              "#7201a8"
             ],
             [
              0.3333333333333333,
              "#9c179e"
             ],
             [
              0.4444444444444444,
              "#bd3786"
             ],
             [
              0.5555555555555556,
              "#d8576b"
             ],
             [
              0.6666666666666666,
              "#ed7953"
             ],
             [
              0.7777777777777778,
              "#fb9f3a"
             ],
             [
              0.8888888888888888,
              "#fdca26"
             ],
             [
              1,
              "#f0f921"
             ]
            ],
            "type": "histogram2dcontour"
           }
          ],
          "mesh3d": [
           {
            "colorbar": {
             "outlinewidth": 0,
             "ticks": ""
            },
            "type": "mesh3d"
           }
          ],
          "parcoords": [
           {
            "line": {
             "colorbar": {
              "outlinewidth": 0,
              "ticks": ""
             }
            },
            "type": "parcoords"
           }
          ],
          "pie": [
           {
            "automargin": true,
            "type": "pie"
           }
          ],
          "scatter": [
           {
            "fillpattern": {
             "fillmode": "overlay",
             "size": 10,
             "solidity": 0.2
            },
            "type": "scatter"
           }
          ],
          "scatter3d": [
           {
            "line": {
             "colorbar": {
              "outlinewidth": 0,
              "ticks": ""
             }
            },
            "marker": {
             "colorbar": {
              "outlinewidth": 0,
              "ticks": ""
             }
            },
            "type": "scatter3d"
           }
          ],
          "scattercarpet": [
           {
            "marker": {
             "colorbar": {
              "outlinewidth": 0,
              "ticks": ""
             }
            },
            "type": "scattercarpet"
           }
          ],
          "scattergeo": [
           {
            "marker": {
             "colorbar": {
              "outlinewidth": 0,
              "ticks": ""
             }
            },
            "type": "scattergeo"
           }
          ],
          "scattergl": [
           {
            "marker": {
             "colorbar": {
              "outlinewidth": 0,
              "ticks": ""
             }
            },
            "type": "scattergl"
           }
          ],
          "scattermapbox": [
           {
            "marker": {
             "colorbar": {
              "outlinewidth": 0,
              "ticks": ""
             }
            },
            "type": "scattermapbox"
           }
          ],
          "scatterpolar": [
           {
            "marker": {
             "colorbar": {
              "outlinewidth": 0,
              "ticks": ""
             }
            },
            "type": "scatterpolar"
           }
          ],
          "scatterpolargl": [
           {
            "marker": {
             "colorbar": {
              "outlinewidth": 0,
              "ticks": ""
             }
            },
            "type": "scatterpolargl"
           }
          ],
          "scatterternary": [
           {
            "marker": {
             "colorbar": {
              "outlinewidth": 0,
              "ticks": ""
             }
            },
            "type": "scatterternary"
           }
          ],
          "surface": [
           {
            "colorbar": {
             "outlinewidth": 0,
             "ticks": ""
            },
            "colorscale": [
             [
              0,
              "#0d0887"
             ],
             [
              0.1111111111111111,
              "#46039f"
             ],
             [
              0.2222222222222222,
              "#7201a8"
             ],
             [
              0.3333333333333333,
              "#9c179e"
             ],
             [
              0.4444444444444444,
              "#bd3786"
             ],
             [
              0.5555555555555556,
              "#d8576b"
             ],
             [
              0.6666666666666666,
              "#ed7953"
             ],
             [
              0.7777777777777778,
              "#fb9f3a"
             ],
             [
              0.8888888888888888,
              "#fdca26"
             ],
             [
              1,
              "#f0f921"
             ]
            ],
            "type": "surface"
           }
          ],
          "table": [
           {
            "cells": {
             "fill": {
              "color": "#EBF0F8"
             },
             "line": {
              "color": "white"
             }
            },
            "header": {
             "fill": {
              "color": "#C8D4E3"
             },
             "line": {
              "color": "white"
             }
            },
            "type": "table"
           }
          ]
         },
         "layout": {
          "annotationdefaults": {
           "arrowcolor": "#2a3f5f",
           "arrowhead": 0,
           "arrowwidth": 1
          },
          "autotypenumbers": "strict",
          "coloraxis": {
           "colorbar": {
            "outlinewidth": 0,
            "ticks": ""
           }
          },
          "colorscale": {
           "diverging": [
            [
             0,
             "#8e0152"
            ],
            [
             0.1,
             "#c51b7d"
            ],
            [
             0.2,
             "#de77ae"
            ],
            [
             0.3,
             "#f1b6da"
            ],
            [
             0.4,
             "#fde0ef"
            ],
            [
             0.5,
             "#f7f7f7"
            ],
            [
             0.6,
             "#e6f5d0"
            ],
            [
             0.7,
             "#b8e186"
            ],
            [
             0.8,
             "#7fbc41"
            ],
            [
             0.9,
             "#4d9221"
            ],
            [
             1,
             "#276419"
            ]
           ],
           "sequential": [
            [
             0,
             "#0d0887"
            ],
            [
             0.1111111111111111,
             "#46039f"
            ],
            [
             0.2222222222222222,
             "#7201a8"
            ],
            [
             0.3333333333333333,
             "#9c179e"
            ],
            [
             0.4444444444444444,
             "#bd3786"
            ],
            [
             0.5555555555555556,
             "#d8576b"
            ],
            [
             0.6666666666666666,
             "#ed7953"
            ],
            [
             0.7777777777777778,
             "#fb9f3a"
            ],
            [
             0.8888888888888888,
             "#fdca26"
            ],
            [
             1,
             "#f0f921"
            ]
           ],
           "sequentialminus": [
            [
             0,
             "#0d0887"
            ],
            [
             0.1111111111111111,
             "#46039f"
            ],
            [
             0.2222222222222222,
             "#7201a8"
            ],
            [
             0.3333333333333333,
             "#9c179e"
            ],
            [
             0.4444444444444444,
             "#bd3786"
            ],
            [
             0.5555555555555556,
             "#d8576b"
            ],
            [
             0.6666666666666666,
             "#ed7953"
            ],
            [
             0.7777777777777778,
             "#fb9f3a"
            ],
            [
             0.8888888888888888,
             "#fdca26"
            ],
            [
             1,
             "#f0f921"
            ]
           ]
          },
          "colorway": [
           "#636efa",
           "#EF553B",
           "#00cc96",
           "#ab63fa",
           "#FFA15A",
           "#19d3f3",
           "#FF6692",
           "#B6E880",
           "#FF97FF",
           "#FECB52"
          ],
          "font": {
           "color": "#2a3f5f"
          },
          "geo": {
           "bgcolor": "white",
           "lakecolor": "white",
           "landcolor": "#E5ECF6",
           "showlakes": true,
           "showland": true,
           "subunitcolor": "white"
          },
          "hoverlabel": {
           "align": "left"
          },
          "hovermode": "closest",
          "mapbox": {
           "style": "light"
          },
          "paper_bgcolor": "white",
          "plot_bgcolor": "#E5ECF6",
          "polar": {
           "angularaxis": {
            "gridcolor": "white",
            "linecolor": "white",
            "ticks": ""
           },
           "bgcolor": "#E5ECF6",
           "radialaxis": {
            "gridcolor": "white",
            "linecolor": "white",
            "ticks": ""
           }
          },
          "scene": {
           "xaxis": {
            "backgroundcolor": "#E5ECF6",
            "gridcolor": "white",
            "gridwidth": 2,
            "linecolor": "white",
            "showbackground": true,
            "ticks": "",
            "zerolinecolor": "white"
           },
           "yaxis": {
            "backgroundcolor": "#E5ECF6",
            "gridcolor": "white",
            "gridwidth": 2,
            "linecolor": "white",
            "showbackground": true,
            "ticks": "",
            "zerolinecolor": "white"
           },
           "zaxis": {
            "backgroundcolor": "#E5ECF6",
            "gridcolor": "white",
            "gridwidth": 2,
            "linecolor": "white",
            "showbackground": true,
            "ticks": "",
            "zerolinecolor": "white"
           }
          },
          "shapedefaults": {
           "line": {
            "color": "#2a3f5f"
           }
          },
          "ternary": {
           "aaxis": {
            "gridcolor": "white",
            "linecolor": "white",
            "ticks": ""
           },
           "baxis": {
            "gridcolor": "white",
            "linecolor": "white",
            "ticks": ""
           },
           "bgcolor": "#E5ECF6",
           "caxis": {
            "gridcolor": "white",
            "linecolor": "white",
            "ticks": ""
           }
          },
          "title": {
           "x": 0.05
          },
          "xaxis": {
           "automargin": true,
           "gridcolor": "white",
           "linecolor": "white",
           "ticks": "",
           "title": {
            "standoff": 15
           },
           "zerolinecolor": "white",
           "zerolinewidth": 2
          },
          "yaxis": {
           "automargin": true,
           "gridcolor": "white",
           "linecolor": "white",
           "ticks": "",
           "title": {
            "standoff": 15
           },
           "zerolinecolor": "white",
           "zerolinewidth": 2
          }
         }
        },
        "xaxis": {
         "anchor": "y",
         "domain": [
          0,
          1
         ],
         "title": {
          "text": "Porcentagem"
         }
        },
        "yaxis": {
         "anchor": "x",
         "domain": [
          0,
          1
         ],
         "title": {
          "text": "Curso"
         }
        }
       }
      }
     },
     "metadata": {},
     "output_type": "display_data"
    }
   ],
   "source": [
    "fig.show()"
   ]
  },
  {
   "cell_type": "markdown",
   "metadata": {},
   "source": [
    "### Análise das notas"
   ]
  },
  {
   "cell_type": "code",
   "execution_count": 24,
   "metadata": {},
   "outputs": [
    {
     "data": {
      "image/png": "[encoded data removed]",
      "text/plain": [
       "<Figure size 640x480 with 1 Axes>"
      ]
     },
     "metadata": {},
     "output_type": "display_data"
    }
   ],
   "source": [
    "sns.boxplot(data=df, x='Target', y='disciplinas 1º semestre (notas)')\n",
    "plt.show()"
   ]
  },
  {
   "cell_type": "code",
   "execution_count": 25,
   "metadata": {},
   "outputs": [
    {
     "data": {
      "image/png": "[encoded data removed]",
      "text/plain": [
       "<Figure size 640x480 with 1 Axes>"
      ]
     },
     "metadata": {},
     "output_type": "display_data"
    }
   ],
   "source": [
    "sns.boxplot(data=df, x='Target', y='disciplinas 2º semestre (notas)')\n",
    "plt.show()"
   ]
  },
  {
   "cell_type": "markdown",
   "metadata": {},
   "source": [
    "Podemos notar que notas baixas influenciam bastante na desistência do curso (ou talvez o contrário, o fato de a pessoa desistir já influencia em nem se dedicar a tirar boas notas ou fazer as provas)."
   ]
  },
  {
   "cell_type": "markdown",
   "metadata": {},
   "source": [
    "### Análise do balanceamento dos dados"
   ]
  },
  {
   "cell_type": "code",
   "execution_count": 26,
   "metadata": {},
   "outputs": [
    {
     "data": {
      "text/plain": [
       "Graduado       49.932188\n",
       "Desistente     32.120253\n",
       "Matriculado    17.947559\n",
       "Name: Target, dtype: float64"
      ]
     },
     "execution_count": 26,
     "metadata": {},
     "output_type": "execute_result"
    }
   ],
   "source": [
    "df.Target.value_counts(normalize=True)*100"
   ]
  },
  {
   "cell_type": "markdown",
   "metadata": {},
   "source": [
    "Nossos dados estão **desbalanceados**. Futuramente, iremos verificar como isso pode impactar nos modelos de classificação que iremos criar."
   ]
  },
  {
   "cell_type": "markdown",
   "metadata": {},
   "source": [
    "### Desafio\n",
    "\n",
    "Agora, seu desafio consiste em uma análise abrangente das seguintes variáveis:\n",
    "\n",
    "- Migração\n",
    "- Necessidades educacionais especiais\n",
    "- Taxa de desemprego\n",
    "- Taxa de inflação\n",
    "- PIB\n",
    "- Qualificação prévia"
   ]
  },
  {
   "cell_type": "markdown",
   "metadata": {},
   "source": [
    "A coluna \"Migração\" descreve se os estudantes se deslocaram da cidade onde viviam para a cidade onde a universidade está localizada."
   ]
  },
  {
   "cell_type": "code",
   "execution_count": 27,
   "metadata": {},
   "outputs": [
    {
     "data": {
      "image/png": "[encoded data removed]",
      "text/plain": [
       "<Figure size 640x480 with 1 Axes>"
      ]
     },
     "metadata": {},
     "output_type": "display_data"
    }
   ],
   "source": [
    "sns.countplot(data=df, x='Migração', hue='Target')\n",
    "plt.show()"
   ]
  },
  {
   "cell_type": "code",
   "execution_count": 28,
   "metadata": {},
   "outputs": [
    {
     "data": {
      "image/png": "[encoded data removed]",
      "text/plain": [
       "<Figure size 640x480 with 1 Axes>"
      ]
     },
     "metadata": {},
     "output_type": "display_data"
    }
   ],
   "source": [
    "sns.countplot(data=df, x='Necessidades educacionais especiais', hue='Target')\n",
    "plt.show()"
   ]
  },
  {
   "cell_type": "code",
   "execution_count": 29,
   "metadata": {},
   "outputs": [
    {
     "data": {
      "text/plain": [
       "Não    0.988472\n",
       "Sim    0.011528\n",
       "Name: Necessidades educacionais especiais, dtype: float64"
      ]
     },
     "execution_count": 29,
     "metadata": {},
     "output_type": "execute_result"
    }
   ],
   "source": [
    "df['Necessidades educacionais especiais'].value_counts(normalize=True)"
   ]
  },
  {
   "cell_type": "code",
   "execution_count": 30,
   "metadata": {},
   "outputs": [
    {
     "data": {
      "image/png": "[encoded data removed]",
      "text/plain": [
       "<Figure size 632x500 with 1 Axes>"
      ]
     },
     "metadata": {},
     "output_type": "display_data"
    }
   ],
   "source": [
    "sns.displot(df, x='Taxa de desemprego', hue='Target', kind='kde', fill=True)\n",
    "plt.show()"
   ]
  },
  {
   "cell_type": "code",
   "execution_count": 31,
   "metadata": {},
   "outputs": [
    {
     "data": {
      "image/png": "[encoded data removed]",
      "text/plain": [
       "<Figure size 632x500 with 1 Axes>"
      ]
     },
     "metadata": {},
     "output_type": "display_data"
    }
   ],
   "source": [
    "sns.displot(df, x='Taxa de inflação', hue='Target', kind='kde', fill=True)\n",
    "plt.show()"
   ]
  },
  {
   "cell_type": "code",
   "execution_count": 32,
   "metadata": {},
   "outputs": [
    {
     "data": {
      "image/png": "[encoded data removed]",
      "text/plain": [
       "<Figure size 632x500 with 1 Axes>"
      ]
     },
     "metadata": {},
     "output_type": "display_data"
    }
   ],
   "source": [
    "sns.displot(df, x='PIB', hue='Target', kind='kde', fill=True)\n",
    "plt.show()"
   ]
  },
  {
   "cell_type": "code",
   "execution_count": 35,
   "metadata": {},
   "outputs": [
    {
     "data": {
      "application/vnd.plotly.v1+json": {
       "config": {
        "plotlyServerURL": "https://plot.ly"
       },
       "data": [
        {
         "alignmentgroup": "True",
         "hovertemplate": "Target=Desistente<br>Porcentagem=%{x}<br>Qualificação prévia=%{y}<extra></extra>",
         "legendgroup": "Desistente",
         "marker": {
          "color": "#e34c42",
          "pattern": {
           "shape": ""
          }
         },
         "name": "Desistente",
         "offsetgroup": "Desistente",
         "orientation": "h",
         "showlegend": true,
         "textposition": "auto",
         "type": "bar",
         "x": [
          100,
          50,
          75,
          100,
          31.506849315068493,
          16.666666666666664,
          42.857142857142854,
          64.19753086419753,
          29.001883239171374,
          69.56521739130434,
          100,
          59.523809523809526,
          35,
          50,
          33.33333333333333,
          43.75,
          57.77777777777777
         ],
         "xaxis": "x",
         "y": [
          "10º ano de escolaridade",
          "10º ano de escolaridade - não concluído",
          "11º ano de escolaridade - não concluído",
          "12º ano de escolaridade - não concluído",
          "Curso de especialização tecnológica",
          "Curso técnico superior profissional",
          "Educação básica 2º ciclo (6º/7º/8º ano) ou equivalente",
          "Educação básica 3º ciclo (9º/10º/11º ano) ou equivalente",
          "Educação secundária",
          "Educação superior - bacharelado",
          "Educação superior - doutorado",
          "Educação superior - licenciatura",
          "Educação superior - licenciatura (1º ciclo)",
          "Educação superior - mestrado",
          "Educação superior - mestrado (2º ciclo)",
          "Frequência de educação superior",
          "Outro - 11º ano de escolaridade"
         ],
         "yaxis": "y"
        },
        {
         "alignmentgroup": "True",
         "hovertemplate": "Target=Graduado<br>Porcentagem=%{x}<br>Qualificação prévia=%{y}<extra></extra>",
         "legendgroup": "Graduado",
         "marker": {
          "color": "#4dc471",
          "pattern": {
           "shape": ""
          }
         },
         "name": "Graduado",
         "offsetgroup": "Graduado",
         "orientation": "h",
         "showlegend": true,
         "textposition": "auto",
         "type": "bar",
         "x": [
          50,
          25,
          43.37899543378995,
          61.111111111111114,
          42.857142857142854,
          27.77777777777778,
          52.21953188054883,
          26.08695652173913,
          37.301587301587304,
          50,
          37.5,
          66.66666666666666,
          50,
          28.888888888888886
         ],
         "xaxis": "x",
         "y": [
          "10º ano de escolaridade - não concluído",
          "11º ano de escolaridade - não concluído",
          "Curso de especialização tecnológica",
          "Curso técnico superior profissional",
          "Educação básica 2º ciclo (6º/7º/8º ano) ou equivalente",
          "Educação básica 3º ciclo (9º/10º/11º ano) ou equivalente",
          "Educação secundária",
          "Educação superior - bacharelado",
          "Educação superior - licenciatura",
          "Educação superior - licenciatura (1º ciclo)",
          "Educação superior - mestrado",
          "Educação superior - mestrado (2º ciclo)",
          "Frequência de educação superior",
          "Outro - 11º ano de escolaridade"
         ],
         "yaxis": "y"
        },
        {
         "alignmentgroup": "True",
         "hovertemplate": "Target=Matriculado<br>Porcentagem=%{x}<br>Qualificação prévia=%{y}<extra></extra>",
         "legendgroup": "Matriculado",
         "marker": {
          "color": "#3b71db",
          "pattern": {
           "shape": ""
          }
         },
         "name": "Matriculado",
         "offsetgroup": "Matriculado",
         "orientation": "h",
         "showlegend": true,
         "textposition": "auto",
         "type": "bar",
         "x": [
          25.11415525114155,
          22.22222222222222,
          14.285714285714285,
          8.024691358024691,
          18.778584880279794,
          4.3478260869565215,
          3.1746031746031744,
          15,
          12.5,
          6.25,
          13.333333333333334
         ],
         "xaxis": "x",
         "y": [
          "Curso de especialização tecnológica",
          "Curso técnico superior profissional",
          "Educação básica 2º ciclo (6º/7º/8º ano) ou equivalente",
          "Educação básica 3º ciclo (9º/10º/11º ano) ou equivalente",
          "Educação secundária",
          "Educação superior - bacharelado",
          "Educação superior - licenciatura",
          "Educação superior - licenciatura (1º ciclo)",
          "Educação superior - mestrado",
          "Frequência de educação superior",
          "Outro - 11º ano de escolaridade"
         ],
         "yaxis": "y"
        }
       ],
       "layout": {
        "barmode": "relative",
        "legend": {
         "title": {
          "text": "Target"
         },
         "tracegroupgap": 0
        },
        "margin": {
         "t": 60
        },
        "template": {
         "data": {
          "bar": [
           {
            "error_x": {
             "color": "#2a3f5f"
            },
            "error_y": {
             "color": "#2a3f5f"
            },
            "marker": {
             "line": {
              "color": "#E5ECF6",
              "width": 0.5
             },
             "pattern": {
              "fillmode": "overlay",
              "size": 10,
              "solidity": 0.2
             }
            },
            "type": "bar"
           }
          ],
          "barpolar": [
           {
            "marker": {
             "line": {
              "color": "#E5ECF6",
              "width": 0.5
             },
             "pattern": {
              "fillmode": "overlay",
              "size": 10,
              "solidity": 0.2
             }
            },
            "type": "barpolar"
           }
          ],
          "carpet": [
           {
            "aaxis": {
             "endlinecolor": "#2a3f5f",
             "gridcolor": "white",
             "linecolor": "white",
             "minorgridcolor": "white",
             "startlinecolor": "#2a3f5f"
            },
            "baxis": {
             "endlinecolor": "#2a3f5f",
             "gridcolor": "white",
             "linecolor": "white",
             "minorgridcolor": "white",
             "startlinecolor": "#2a3f5f"
            },
            "type": "carpet"
           }
          ],
          "choropleth": [
           {
            "colorbar": {
             "outlinewidth": 0,
             "ticks": ""
            },
            "type": "choropleth"
           }
          ],
          "contour": [
           {
            "colorbar": {
             "outlinewidth": 0,
             "ticks": ""
            },
            "colorscale": [
             [
              0,
              "#0d0887"
             ],
             [
              0.1111111111111111,
              "#46039f"
             ],
             [
              0.2222222222222222,
              "#7201a8"
             ],
             [
              0.3333333333333333,
              "#9c179e"
             ],
             [
              0.4444444444444444,
              "#bd3786"
             ],
             [
              0.5555555555555556,
              "#d8576b"
             ],
             [
              0.6666666666666666,
              "#ed7953"
             ],
             [
              0.7777777777777778,
              "#fb9f3a"
             ],
             [
              0.8888888888888888,
              "#fdca26"
             ],
             [
              1,
              "#f0f921"
             ]
            ],
            "type": "contour"
           }
          ],
          "contourcarpet": [
           {
            "colorbar": {
             "outlinewidth": 0,
             "ticks": ""
            },
            "type": "contourcarpet"
           }
          ],
          "heatmap": [
           {
            "colorbar": {
             "outlinewidth": 0,
             "ticks": ""
            },
            "colorscale": [
             [
              0,
              "#0d0887"
             ],
             [
              0.1111111111111111,
              "#46039f"
             ],
             [
              0.2222222222222222,
              "#7201a8"
             ],
             [
              0.3333333333333333,
              "#9c179e"
             ],
             [
              0.4444444444444444,
              "#bd3786"
             ],
             [
              0.5555555555555556,
              "#d8576b"
             ],
             [
              0.6666666666666666,
              "#ed7953"
             ],
             [
              0.7777777777777778,
              "#fb9f3a"
             ],
             [
              0.8888888888888888,
              "#fdca26"
             ],
             [
              1,
              "#f0f921"
             ]
            ],
            "type": "heatmap"
           }
          ],
          "heatmapgl": [
           {
            "colorbar": {
             "outlinewidth": 0,
             "ticks": ""
            },
            "colorscale": [
             [
              0,
              "#0d0887"
             ],
             [
              0.1111111111111111,
              "#46039f"
             ],
             [
              0.2222222222222222,
              "#7201a8"
             ],
             [
              0.3333333333333333,
              "#9c179e"
             ],
             [
              0.4444444444444444,
              "#bd3786"
             ],
             [
              0.5555555555555556,
              "#d8576b"
             ],
             [
              0.6666666666666666,
              "#ed7953"
             ],
             [
              0.7777777777777778,
              "#fb9f3a"
             ],
             [
              0.8888888888888888,
              "#fdca26"
             ],
             [
              1,
              "#f0f921"
             ]
            ],
            "type": "heatmapgl"
           }
          ],
          "histogram": [
           {
            "marker": {
             "pattern": {
              "fillmode": "overlay",
              "size": 10,
              "solidity": 0.2
             }
            },
            "type": "histogram"
           }
          ],
          "histogram2d": [
           {
            "colorbar": {
             "outlinewidth": 0,
             "ticks": ""
            },
            "colorscale": [
             [
              0,
              "#0d0887"
             ],
             [
              0.1111111111111111,
              "#46039f"
             ],
             [
              0.2222222222222222,
              "#7201a8"
             ],
             [
              0.3333333333333333,
              "#9c179e"
             ],
             [
              0.4444444444444444,
              "#bd3786"
             ],
             [
              0.5555555555555556,
              "#d8576b"
             ],
             [
              0.6666666666666666,
              "#ed7953"
             ],
             [
              0.7777777777777778,
              "#fb9f3a"
             ],
             [
              0.8888888888888888,
              "#fdca26"
             ],
             [
              1,
              "#f0f921"
             ]
            ],
            "type": "histogram2d"
           }
          ],
          "histogram2dcontour": [
           {
            "colorbar": {
             "outlinewidth": 0,
             "ticks": ""
            },
            "colorscale": [
             [
              0,
              "#0d0887"
             ],
             [
              0.1111111111111111,
              "#46039f"
             ],
             [
              0.2222222222222222,
              "#7201a8"
             ],
             [
              0.3333333333333333,
              "#9c179e"
             ],
             [
              0.4444444444444444,
              "#bd3786"
             ],
             [
              0.5555555555555556,
              "#d8576b"
             ],
             [
              0.6666666666666666,
              "#ed7953"
             ],
             [
              0.7777777777777778,
              "#fb9f3a"
             ],
             [
              0.8888888888888888,
              "#fdca26"
             ],
             [
              1,
              "#f0f921"
             ]
            ],
            "type": "histogram2dcontour"
           }
          ],
          "mesh3d": [
           {
            "colorbar": {
             "outlinewidth": 0,
             "ticks": ""
            },
            "type": "mesh3d"
           }
          ],
          "parcoords": [
           {
            "line": {
             "colorbar": {
              "outlinewidth": 0,
              "ticks": ""
             }
            },
            "type": "parcoords"
           }
          ],
          "pie": [
           {
            "automargin": true,
            "type": "pie"
           }
          ],
          "scatter": [
           {
            "fillpattern": {
             "fillmode": "overlay",
             "size": 10,
             "solidity": 0.2
            },
            "type": "scatter"
           }
          ],
          "scatter3d": [
           {
            "line": {
             "colorbar": {
              "outlinewidth": 0,
              "ticks": ""
             }
            },
            "marker": {
             "colorbar": {
              "outlinewidth": 0,
              "ticks": ""
             }
            },
            "type": "scatter3d"
           }
          ],
          "scattercarpet": [
           {
            "marker": {
             "colorbar": {
              "outlinewidth": 0,
              "ticks": ""
             }
            },
            "type": "scattercarpet"
           }
          ],
          "scattergeo": [
           {
            "marker": {
             "colorbar": {
              "outlinewidth": 0,
              "ticks": ""
             }
            },
            "type": "scattergeo"
           }
          ],
          "scattergl": [
           {
            "marker": {
             "colorbar": {
              "outlinewidth": 0,
              "ticks": ""
             }
            },
            "type": "scattergl"
           }
          ],
          "scattermapbox": [
           {
            "marker": {
             "colorbar": {
              "outlinewidth": 0,
              "ticks": ""
             }
            },
            "type": "scattermapbox"
           }
          ],
          "scatterpolar": [
           {
            "marker": {
             "colorbar": {
              "outlinewidth": 0,
              "ticks": ""
             }
            },
            "type": "scatterpolar"
           }
          ],
          "scatterpolargl": [
           {
            "marker": {
             "colorbar": {
              "outlinewidth": 0,
              "ticks": ""
             }
            },
            "type": "scatterpolargl"
           }
          ],
          "scatterternary": [
           {
            "marker": {
             "colorbar": {
              "outlinewidth": 0,
              "ticks": ""
             }
            },
            "type": "scatterternary"
           }
          ],
          "surface": [
           {
            "colorbar": {
             "outlinewidth": 0,
             "ticks": ""
            },
            "colorscale": [
             [
              0,
              "#0d0887"
             ],
             [
              0.1111111111111111,
              "#46039f"
             ],
             [
              0.2222222222222222,
              "#7201a8"
             ],
             [
              0.3333333333333333,
              "#9c179e"
             ],
             [
              0.4444444444444444,
              "#bd3786"
             ],
             [
              0.5555555555555556,
              "#d8576b"
             ],
             [
              0.6666666666666666,
              "#ed7953"
             ],
             [
              0.7777777777777778,
              "#fb9f3a"
             ],
             [
              0.8888888888888888,
              "#fdca26"
             ],
             [
              1,
              "#f0f921"
             ]
            ],
            "type": "surface"
           }
          ],
          "table": [
           {
            "cells": {
             "fill": {
              "color": "#EBF0F8"
             },
             "line": {
              "color": "white"
             }
            },
            "header": {
             "fill": {
              "color": "#C8D4E3"
             },
             "line": {
              "color": "white"
             }
            },
            "type": "table"
           }
          ]
         },
         "layout": {
          "annotationdefaults": {
           "arrowcolor": "#2a3f5f",
           "arrowhead": 0,
           "arrowwidth": 1
          },
          "autotypenumbers": "strict",
          "coloraxis": {
           "colorbar": {
            "outlinewidth": 0,
            "ticks": ""
           }
          },
          "colorscale": {
           "diverging": [
            [
             0,
             "#8e0152"
            ],
            [
             0.1,
             "#c51b7d"
            ],
            [
             0.2,
             "#de77ae"
            ],
            [
             0.3,
             "#f1b6da"
            ],
            [
             0.4,
             "#fde0ef"
            ],
            [
             0.5,
             "#f7f7f7"
            ],
            [
             0.6,
             "#e6f5d0"
            ],
            [
             0.7,
             "#b8e186"
            ],
            [
             0.8,
             "#7fbc41"
            ],
            [
             0.9,
             "#4d9221"
            ],
            [
             1,
             "#276419"
            ]
           ],
           "sequential": [
            [
             0,
             "#0d0887"
            ],
            [
             0.1111111111111111,
             "#46039f"
            ],
            [
             0.2222222222222222,
             "#7201a8"
            ],
            [
             0.3333333333333333,
             "#9c179e"
            ],
            [
             0.4444444444444444,
             "#bd3786"
            ],
            [
             0.5555555555555556,
             "#d8576b"
            ],
            [
             0.6666666666666666,
             "#ed7953"
            ],
            [
             0.7777777777777778,
             "#fb9f3a"
            ],
            [
             0.8888888888888888,
             "#fdca26"
            ],
            [
             1,
             "#f0f921"
            ]
           ],
           "sequentialminus": [
            [
             0,
             "#0d0887"
            ],
            [
             0.1111111111111111,
             "#46039f"
            ],
            [
             0.2222222222222222,
             "#7201a8"
            ],
            [
             0.3333333333333333,
             "#9c179e"
            ],
            [
             0.4444444444444444,
             "#bd3786"
            ],
            [
             0.5555555555555556,
             "#d8576b"
            ],
            [
             0.6666666666666666,
             "#ed7953"
            ],
            [
             0.7777777777777778,
             "#fb9f3a"
            ],
            [
             0.8888888888888888,
             "#fdca26"
            ],
            [
             1,
             "#f0f921"
            ]
           ]
          },
          "colorway": [
           "#636efa",
           "#EF553B",
           "#00cc96",
           "#ab63fa",
           "#FFA15A",
           "#19d3f3",
           "#FF6692",
           "#B6E880",
           "#FF97FF",
           "#FECB52"
          ],
          "font": {
           "color": "#2a3f5f"
          },
          "geo": {
           "bgcolor": "white",
           "lakecolor": "white",
           "landcolor": "#E5ECF6",
           "showlakes": true,
           "showland": true,
           "subunitcolor": "white"
          },
          "hoverlabel": {
           "align": "left"
          },
          "hovermode": "closest",
          "mapbox": {
           "style": "light"
          },
          "paper_bgcolor": "white",
          "plot_bgcolor": "#E5ECF6",
          "polar": {
           "angularaxis": {
            "gridcolor": "white",
            "linecolor": "white",
            "ticks": ""
           },
           "bgcolor": "#E5ECF6",
           "radialaxis": {
            "gridcolor": "white",
            "linecolor": "white",
            "ticks": ""
           }
          },
          "scene": {
           "xaxis": {
            "backgroundcolor": "#E5ECF6",
            "gridcolor": "white",
            "gridwidth": 2,
            "linecolor": "white",
            "showbackground": true,
            "ticks": "",
            "zerolinecolor": "white"
           },
           "yaxis": {
            "backgroundcolor": "#E5ECF6",
            "gridcolor": "white",
            "gridwidth": 2,
            "linecolor": "white",
            "showbackground": true,
            "ticks": "",
            "zerolinecolor": "white"
           },
           "zaxis": {
            "backgroundcolor": "#E5ECF6",
            "gridcolor": "white",
            "gridwidth": 2,
            "linecolor": "white",
            "showbackground": true,
            "ticks": "",
            "zerolinecolor": "white"
           }
          },
          "shapedefaults": {
           "line": {
            "color": "#2a3f5f"
           }
          },
          "ternary": {
           "aaxis": {
            "gridcolor": "white",
            "linecolor": "white",
            "ticks": ""
           },
           "baxis": {
            "gridcolor": "white",
            "linecolor": "white",
            "ticks": ""
           },
           "bgcolor": "#E5ECF6",
           "caxis": {
            "gridcolor": "white",
            "linecolor": "white",
            "ticks": ""
           }
          },
          "title": {
           "x": 0.05
          },
          "xaxis": {
           "automargin": true,
           "gridcolor": "white",
           "linecolor": "white",
           "ticks": "",
           "title": {
            "standoff": 15
           },
           "zerolinecolor": "white",
           "zerolinewidth": 2
          },
          "yaxis": {
           "automargin": true,
           "gridcolor": "white",
           "linecolor": "white",
           "ticks": "",
           "title": {
            "standoff": 15
           },
           "zerolinecolor": "white",
           "zerolinewidth": 2
          }
         }
        },
        "xaxis": {
         "anchor": "y",
         "domain": [
          0,
          1
         ],
         "title": {
          "text": "Porcentagem"
         }
        },
        "yaxis": {
         "anchor": "x",
         "domain": [
          0,
          1
         ],
         "title": {
          "text": "Qualificação prévia"
         }
        }
       }
      }
     },
     "metadata": {},
     "output_type": "display_data"
    }
   ],
   "source": [
    "contagem_por_qualificacao = df.groupby(['Qualificação prévia', 'Target']).size().reset_index(name='Contagem')\n",
    "contagem_por_qualificacao['Porcentagem'] = contagem_por_qualificacao.groupby('Qualificação prévia')['Contagem'].transform(lambda x: (x/x.sum())*100)\n",
    "fig = px.bar(contagem_por_qualificacao, y='Qualificação prévia', x='Porcentagem', color='Target', color_discrete_map=color_dict)\n",
    "fig.show()"
   ]
  },
  {
   "cell_type": "code",
   "execution_count": 34,
   "metadata": {},
   "outputs": [
    {
     "data": {
      "text/plain": [
       "Educação secundária                                         84.018987\n",
       "Curso de especialização tecnológica                          4.950271\n",
       "Educação básica 3º ciclo (9º/10º/11º ano) ou equivalente     3.661844\n",
       "Educação superior - licenciatura                             2.848101\n",
       "Outro - 11º ano de escolaridade                              1.017179\n",
       "Educação superior - licenciatura (1º ciclo)                  0.904159\n",
       "Curso técnico superior profissional                          0.813743\n",
       "Educação superior - bacharelado                              0.519892\n",
       "Frequência de educação superior                              0.361664\n",
       "12º ano de escolaridade - não concluído                      0.248644\n",
       "Educação superior - mestrado                                 0.180832\n",
       "Educação básica 2º ciclo (6º/7º/8º ano) ou equivalente       0.158228\n",
       "Educação superior - mestrado (2º ciclo)                      0.135624\n",
       "11º ano de escolaridade - não concluído                      0.090416\n",
       "10º ano de escolaridade - não concluído                      0.045208\n",
       "Educação superior - doutorado                                0.022604\n",
       "10º ano de escolaridade                                      0.022604\n",
       "Name: Qualificação prévia, dtype: float64"
      ]
     },
     "execution_count": 34,
     "metadata": {},
     "output_type": "execute_result"
    }
   ],
   "source": [
    "df['Qualificação prévia'].value_counts(normalize=True)*100"
   ]
  }
 ],
 "metadata": {
  "kernelspec": {
   "display_name": "venv",
   "language": "python",
   "name": "python3"
  },
  "language_info": {
   "codemirror_mode": {
    "name": "ipython",
    "version": 3
   },
   "file_extension": ".py",
   "mimetype": "text/x-python",
   "name": "python",
   "nbconvert_exporter": "python",
   "pygments_lexer": "ipython3",
   "version": "3.10.5"
  }
 },
 "nbformat": 4,
 "nbformat_minor": 2
}
